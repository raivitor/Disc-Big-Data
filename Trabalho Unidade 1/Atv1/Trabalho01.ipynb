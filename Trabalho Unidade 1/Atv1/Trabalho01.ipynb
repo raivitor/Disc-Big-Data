{
 "cells": [
  {
   "cell_type": "code",
   "execution_count": 4,
   "metadata": {
    "collapsed": true,
    "deletable": true,
    "editable": true
   },
   "outputs": [],
   "source": [
    "import numpy as np\n",
    "import matplotlib.pyplot as plt \n",
    "import pandas as pd"
   ]
  },
  {
   "cell_type": "code",
   "execution_count": 1,
   "metadata": {
    "collapsed": false,
    "deletable": true,
    "editable": true,
    "scrolled": false
   },
   "outputs": [],
   "source": [
    "def playDice(side):\n",
    "    return np.random.randint(side)+1\n",
    "\n",
    "def tratarResultado(result):\n",
    "    if(result <= 2):\n",
    "        return -1\n",
    "    elif(result <= 5):\n",
    "        return 1\n",
    "    else:\n",
    "        return playDice(6)    \n",
    "\n",
    "def testBadLuck(percentBadLuck):\n",
    "    return np.random.random(1)[0] <= percentBadLuck\n",
    "\n",
    "def play(rounds, epoch, dice, percentBadLuck):\n",
    "    moves = [[0 for x in range(epoch)] for y in range(rounds)] \n",
    "    badLuck = 0\n",
    "    for i in range(rounds):\n",
    "        for j in range(epoch):\n",
    "            resultDice = playDice(dice)\n",
    "            moves[i][j] = moves[i][j-1] + tratarResultado(resultDice)\n",
    "            if moves[i][j] < 0: moves[i][j] = 0\n",
    "            if testBadLuck(percentBadLuck):\n",
    "                moves[i][j] = 0\n",
    "                badLuck += 1\n",
    "\n",
    "    print(\"Bad Luck: \" +str(badLuck))\n",
    "    return moves\n",
    "\n",
    "def plotChartLine(resultado):\n",
    "    x = [x for x in range(len(resultado))]\n",
    "    y = resultado\n",
    "    plt.plot(x, y)       # line plot\n",
    "    plt.plot(x, y, 'o')  # dot plot\n",
    "    plt.show()           # <-- shows the plot (not needed with Ipython)\n",
    "\n",
    "def plotHistogram(finalMove):\n",
    "    df = pd.DataFrame({'Score': finalMove}, columns=['Score'])\n",
    "    df.plot.hist(stacked=True, bins=50, alpha = 0.7)\n",
    "    plt.show()"
   ]
  },
  {
   "cell_type": "code",
   "execution_count": 26,
   "metadata": {
    "collapsed": false,
    "deletable": true,
    "editable": true
   },
   "outputs": [
    {
     "name": "stdout",
     "output_type": "stream",
     "text": [
      "Bad Luck: 5\n",
      "Lower value: 17\n",
      "Highest value: 118\n",
      "Average: 74.806\n",
      "Median: 74.0\n",
      "Variance: 291.388364\n",
      "[[ 1  0  0 ..., 78 77 78]\n",
      " [ 1  2  4 ..., 71 70 71]\n",
      " [ 1  0  0 ..., 51 52 53]\n",
      " ..., \n",
      " [ 0  1  2 ..., 56 57 58]\n",
      " [ 1  2  3 ..., 78 80 79]\n",
      " [ 4  5  6 ..., 87 86 85]]\n"
     ]
    },
    {
     "data": {
      "image/png": "[encoded data removed]",
      "text/plain": [
       "<matplotlib.figure.Figure at 0x7f8531f49ef0>"
      ]
     },
     "metadata": {},
     "output_type": "display_data"
    }
   ],
   "source": [
    "rounds = 500\n",
    "epoch = 100\n",
    "dice = 6\n",
    "percentBadLuck = 0.0001\n",
    "np_moves = np.array(play(rounds, epoch, dice, percentBadLuck)) #Play!\n",
    "np_resultado = np.squeeze(np_moves[:, -1:])#converter array 2d to 1d\n",
    "#np_resultado = np.array(list(map(lambda x: x[0], np_jogadas[:, -1:]))) #converter array 2d to 1d\n",
    "#np_resultado.sort()\n",
    "print(\"Lower value: \" + str(np_resultado.min()))\n",
    "print(\"Highest value: \" + str(np_resultado.max()))\n",
    "print(\"Average: \" + str(np_resultado.mean()))\n",
    "print(\"Median: \" + str(np.median(np_resultado)))\n",
    "print(\"Variance: \" + str(np.var(np_resultado)))\n",
    "#print(np_resultado) # Array 1d  with final score sorted \n",
    "print(np_moves) #Array 2d with all moves\n",
    "plotHistogram(np_resultado)\n",
    "#plotChartLine(np_moves) #Use only few values"
   ]
  },
  {
   "cell_type": "code",
   "execution_count": 21,
   "metadata": {
    "collapsed": false,
    "deletable": true,
    "editable": true
   },
   "outputs": [
    {
     "name": "stdout",
     "output_type": "stream",
     "text": [
      "[array([[ 1,  2,  6,  7,  8,  7, 10,  9,  8,  9,  8,  9, 10, 11, 10, 16, 17,\n",
      "        18, 17, 18, 17, 18, 19, 20, 21, 22, 21, 22, 21, 22, 23, 24, 25, 28,\n",
      "        29, 30, 31, 36, 35, 36, 35, 34, 35, 34, 35, 34, 35, 36, 37, 36, 35,\n",
      "        36, 37, 43, 44, 45, 46, 47, 48, 50, 53, 57, 58, 59, 58, 59, 60, 61,\n",
      "        66, 67, 68, 69, 70, 69, 70, 71, 70, 69, 68, 69, 70, 71, 70, 69, 70,\n",
      "        69, 68, 69, 68, 69, 68, 69, 71, 72, 75, 74, 73, 74, 75, 76]])]\n"
     ]
    },
    {
     "data": {
      "image/png": "[encoded data removed]",
      "text/plain": [
       "<matplotlib.figure.Figure at 0x7f8533f47b70>"
      ]
     },
     "metadata": {},
     "output_type": "display_data"
    }
   ],
   "source": [
    "import matplotlib.pyplot as plt\n",
    "print(np_moves)\n",
    "plt.plot(np_moves[0][:])\n",
    "plt.show()\n"
   ]
  }
 ],
 "metadata": {
  "kernelspec": {
   "display_name": "Python 3",
   "language": "python",
   "name": "python3"
  },
  "language_info": {
   "codemirror_mode": {
    "name": "ipython",
    "version": 3
   },
   "file_extension": ".py",
   "mimetype": "text/x-python",
   "name": "python",
   "nbconvert_exporter": "python",
   "pygments_lexer": "ipython3",
   "version": "3.6.0"
  }
 },
 "nbformat": 4,
 "nbformat_minor": 2
}
