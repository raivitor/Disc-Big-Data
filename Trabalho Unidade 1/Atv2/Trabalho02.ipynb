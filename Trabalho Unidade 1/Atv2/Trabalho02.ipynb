{
 "cells": [
  {
   "cell_type": "code",
   "execution_count": 4,
   "metadata": {
    "collapsed": false,
    "deletable": true,
    "editable": true
   },
   "outputs": [],
   "source": [
    "import pandas as pd\n",
    "import numpy as np\n",
    "pd_cars = pd.read_csv(\"CO2_passenger_cars_v12_editado.csv\", low_memory = False, error_bad_lines = False, warn_bad_lines = False)\n",
    "df_cars = pd.DataFrame(pd_cars)\n"
   ]
  },
  {
   "cell_type": "code",
   "execution_count": 5,
   "metadata": {
    "collapsed": false,
    "deletable": true,
    "editable": true
   },
   "outputs": [
    {
     "name": "stdout",
     "output_type": "stream",
     "text": [
      "['DIESEL', 'PETROL', 'ELECTRIC', 'NG-BIOMETHANE', 'Petrol-electric', 'Petrol', 'Diesel', 'diesel', 'petrol', 'NG-biomethane', 'Electric', 'LPG', nan, 'petrol-electric', 'HYBRID/PETROL/E', 'PETROL-ELECTRIC', 'Petrol-Electric', 'E85', 'diesel-electric', 'electric', 'Diesel-electric', 'Hydrogen', 'Biodiesel', 'PETROL PHEV', 'PETROL/ELECTRIC', 'DIESEL-ELECTRIC', 'NG-Biomethane', 'Diesel-Electric', 'M1', 'OTHER']\n"
     ]
    }
   ],
   "source": [
    "fuel = df_cars[\"Ft\"].unique()\n",
    "fuelType = []\n",
    "for rowFuel in fuel:\n",
    "    try:\n",
    "        if(int(rowFuel)):\n",
    "            continue\n",
    "    except:\n",
    "        fuelType.append(rowFuel)\n",
    "        \n",
    "print (fuelType)"
   ]
  },
  {
   "cell_type": "code",
   "execution_count": 33,
   "metadata": {
    "collapsed": false,
    "deletable": true,
    "editable": true
   },
   "outputs": [
    {
     "name": "stdout",
     "output_type": "stream",
     "text": [
      "[['119',\n",
      "  '209',\n",
      "  '140',\n",
      "  '134',\n",
      "  '119',\n",
      "  '198',\n",
      "  '129',\n",
      "  '104',\n",
      "  '154',\n",
      "  '135',\n",
      "  '211',\n",
      "  '135',\n",
      "  '101',\n",
      "  '137',\n",
      "  '140',\n",
      "  '125',\n",
      "  '106',\n",
      "  '161',\n",
      "  '107',\n",
      "  '167',\n",
      "  '125',\n",
      "  '93',\n",
      "  '104',\n",
      "  '161',\n",
      "  '146',\n",
      "  '109',\n",
      "  '122',\n",
      "  '108',\n",
      "  '119',\n",
      "  '119',\n",
      "  '101',\n",
      "  '101',\n",
      "  '154',\n",
      "  '154',\n",
      "  '130',\n",
      "  '132',\n",
      "  '99',\n",
      "  '99',\n",
      "  '239',\n",
      "  '99',\n",
      "  '117',\n",
      "  '211',\n",
      "  '155',\n",
      "  '161',\n",
      "  '139',\n",
      "  '134',\n",
      "  '198',\n",
      "  '139',\n",
      "  '122',\n",
      "  '119',\n",
      "  '211',\n",
      "  '232',\n",
      "  '88',\n",
      "  '184',\n",
      "  '151',\n",
      "  '107',\n",
      "  '132',\n",
      "  '159',\n",
      "  '216',\n",
      "  '116',\n",
      "  '110',\n",
      "  '120',\n",
      "  '120',\n",
      "  '119',\n",
      "  '132',\n",
      "  '116',\n",
      "  '176',\n",
      "  '104',\n",
      "  '125',\n",
      "  '129'],\n",
      " ['145',\n",
      "  '148',\n",
      "  '180',\n",
      "  '109',\n",
      "  '114',\n",
      "  '126',\n",
      "  '109',\n",
      "  '145',\n",
      "  '107',\n",
      "  '139',\n",
      "  '159',\n",
      "  '145',\n",
      "  '198',\n",
      "  '165',\n",
      "  '114',\n",
      "  '130',\n",
      "  '126',\n",
      "  '116',\n",
      "  '110',\n",
      "  '110',\n",
      "  '139',\n",
      "  '116',\n",
      "  '113',\n",
      "  '126',\n",
      "  '154',\n",
      "  '121',\n",
      "  '95',\n",
      "  '95',\n",
      "  '159',\n",
      "  '126',\n",
      "  '118'],\n",
      " ['0'],\n",
      " [],\n",
      " [],\n",
      " [],\n",
      " [],\n",
      " [],\n",
      " [],\n",
      " [],\n",
      " [],\n",
      " [],\n",
      " [],\n",
      " [],\n",
      " [],\n",
      " [],\n",
      " [],\n",
      " [],\n",
      " [],\n",
      " [],\n",
      " [],\n",
      " [],\n",
      " [],\n",
      " [],\n",
      " [],\n",
      " [],\n",
      " [],\n",
      " [],\n",
      " [],\n",
      " []]\n"
     ]
    }
   ],
   "source": [
    "from pprint import pprint\n",
    "np_fuelType = np.array(fuelType)\n",
    "superArray = [[] for y in range(len(fuelType))] \n",
    "\n",
    "for label, row in df_cars.iterrows():\n",
    "    fuel = row[\"Ft\"]\n",
    "    index = np.where(np_fuelType == fuel)\n",
    "    if len(index[0]) > 0:\n",
    "        superArray[index[0][0]].append(row[\"e (g/km)\"])\n",
    "        #print (fuel)\n",
    "    else:\n",
    "        print (\"Nao deu\")\n",
    "    if(label > 100):\n",
    "        break\n",
    "        \n",
    "pprint(superArray)"
   ]
  },
  {
   "cell_type": "code",
   "execution_count": 17,
   "metadata": {
    "collapsed": false,
    "deletable": true,
    "editable": true
   },
   "outputs": [
    {
     "name": "stdout",
     "output_type": "stream",
     "text": [
      "true\n"
     ]
    }
   ],
   "source": [
    "if (fuelType.index('petrol-electric')):\n",
    "    print(\"true\")"
   ]
  }
 ],
 "metadata": {
  "kernelspec": {
   "display_name": "Python 3",
   "language": "python",
   "name": "python3"
  },
  "language_info": {
   "codemirror_mode": {
    "name": "ipython",
    "version": 3
   },
   "file_extension": ".py",
   "mimetype": "text/x-python",
   "name": "python",
   "nbconvert_exporter": "python",
   "pygments_lexer": "ipython3",
   "version": "3.6.0"
  }
 },
 "nbformat": 4,
 "nbformat_minor": 2
}
