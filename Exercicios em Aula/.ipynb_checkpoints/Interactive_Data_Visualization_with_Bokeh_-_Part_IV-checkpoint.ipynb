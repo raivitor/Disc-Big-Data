{
 "cells": [
  {
   "cell_type": "markdown",
   "metadata": {
    "deletable": true,
    "editable": true
   },
   "source": [
    "# Building interactive apps with Bokeh \n",
    "\n",
    "Bokeh server applications let you connect all of the powerful Python libraries for analytics and data science, such as NumPy and Pandas, to rich interactive Bokeh visualizations. Learn about Bokeh's built-in widgets, how to add them to Bokeh documents alongside plots, and how to connect everything to real python code using the Bokeh server.\n"
   ]
  },
  {
   "cell_type": "markdown",
   "metadata": {
    "collapsed": true,
    "deletable": true,
    "editable": true
   },
   "source": [
    "## Add a single slider\n",
    "\n",
    "Your job here is to create a single slider, use it to create a **widgetbox** layout, and then add this layout to the current document.\n",
    "\n",
    "The slider you create here cannot be used for much, but in the later exercises, you will use it to update your plots!"
   ]
  },
  {
   "cell_type": "code",
   "execution_count": 1,
   "metadata": {
    "collapsed": false,
    "deletable": true,
    "editable": true
   },
   "outputs": [
    {
     "data": {
      "text/html": [
       "\n",
       "    <div class=\"bk-root\">\n",
       "        <a href=\"http://bokeh.pydata.org\" target=\"_blank\" class=\"bk-logo bk-logo-small bk-logo-notebook\"></a>\n",
       "        <span id=\"5d43c011-cc1b-44c7-848c-4ed0ac41ba43\">Loading BokehJS ...</span>\n",
       "    </div>"
      ]
     },
     "metadata": {},
     "output_type": "display_data"
    },
    {
     "data": {
      "application/javascript": [
       "\n",
       "(function(global) {\n",
       "  function now() {\n",
       "    return new Date();\n",
       "  }\n",
       "\n",
       "  var force = true;\n",
       "\n",
       "  if (typeof (window._bokeh_onload_callbacks) === \"undefined\" || force === true) {\n",
       "    window._bokeh_onload_callbacks = [];\n",
       "    window._bokeh_is_loading = undefined;\n",
       "  }\n",
       "\n",
       "\n",
       "  \n",
       "  if (typeof (window._bokeh_timeout) === \"undefined\" || force === true) {\n",
       "    window._bokeh_timeout = Date.now() + 5000;\n",
       "    window._bokeh_failed_load = false;\n",
       "  }\n",
       "\n",
       "  var NB_LOAD_WARNING = {'data': {'text/html':\n",
       "     \"<div style='background-color: #fdd'>\\n\"+\n",
       "     \"<p>\\n\"+\n",
       "     \"BokehJS does not appear to have successfully loaded. If loading BokehJS from CDN, this \\n\"+\n",
       "     \"may be due to a slow or bad network connection. Possible fixes:\\n\"+\n",
       "     \"</p>\\n\"+\n",
       "     \"<ul>\\n\"+\n",
       "     \"<li>re-rerun `output_notebook()` to attempt to load from CDN again, or</li>\\n\"+\n",
       "     \"<li>use INLINE resources instead, as so:</li>\\n\"+\n",
       "     \"</ul>\\n\"+\n",
       "     \"<code>\\n\"+\n",
       "     \"from bokeh.resources import INLINE\\n\"+\n",
       "     \"output_notebook(resources=INLINE)\\n\"+\n",
       "     \"</code>\\n\"+\n",
       "     \"</div>\"}};\n",
       "\n",
       "  function display_loaded() {\n",
       "    if (window.Bokeh !== undefined) {\n",
       "      document.getElementById(\"5d43c011-cc1b-44c7-848c-4ed0ac41ba43\").textContent = \"BokehJS successfully loaded.\";\n",
       "    } else if (Date.now() < window._bokeh_timeout) {\n",
       "      setTimeout(display_loaded, 100)\n",
       "    }\n",
       "  }\n",
       "\n",
       "  function run_callbacks() {\n",
       "    window._bokeh_onload_callbacks.forEach(function(callback) { callback() });\n",
       "    delete window._bokeh_onload_callbacks\n",
       "    console.info(\"Bokeh: all callbacks have finished\");\n",
       "  }\n",
       "\n",
       "  function load_libs(js_urls, callback) {\n",
       "    window._bokeh_onload_callbacks.push(callback);\n",
       "    if (window._bokeh_is_loading > 0) {\n",
       "      console.log(\"Bokeh: BokehJS is being loaded, scheduling callback at\", now());\n",
       "      return null;\n",
       "    }\n",
       "    if (js_urls == null || js_urls.length === 0) {\n",
       "      run_callbacks();\n",
       "      return null;\n",
       "    }\n",
       "    console.log(\"Bokeh: BokehJS not loaded, scheduling load and callback at\", now());\n",
       "    window._bokeh_is_loading = js_urls.length;\n",
       "    for (var i = 0; i < js_urls.length; i++) {\n",
       "      var url = js_urls[i];\n",
       "      var s = document.createElement('script');\n",
       "      s.src = url;\n",
       "      s.async = false;\n",
       "      s.onreadystatechange = s.onload = function() {\n",
       "        window._bokeh_is_loading--;\n",
       "        if (window._bokeh_is_loading === 0) {\n",
       "          console.log(\"Bokeh: all BokehJS libraries loaded\");\n",
       "          run_callbacks()\n",
       "        }\n",
       "      };\n",
       "      s.onerror = function() {\n",
       "        console.warn(\"failed to load library \" + url);\n",
       "      };\n",
       "      console.log(\"Bokeh: injecting script tag for BokehJS library: \", url);\n",
       "      document.getElementsByTagName(\"head\")[0].appendChild(s);\n",
       "    }\n",
       "  };var element = document.getElementById(\"5d43c011-cc1b-44c7-848c-4ed0ac41ba43\");\n",
       "  if (element == null) {\n",
       "    console.log(\"Bokeh: ERROR: autoload.js configured with elementid '5d43c011-cc1b-44c7-848c-4ed0ac41ba43' but no matching script tag was found. \")\n",
       "    return false;\n",
       "  }\n",
       "\n",
       "  var js_urls = [\"https://cdn.pydata.org/bokeh/release/bokeh-0.12.4.min.js\", \"https://cdn.pydata.org/bokeh/release/bokeh-widgets-0.12.4.min.js\"];\n",
       "\n",
       "  var inline_js = [\n",
       "    function(Bokeh) {\n",
       "      Bokeh.set_log_level(\"info\");\n",
       "    },\n",
       "    \n",
       "    function(Bokeh) {\n",
       "      \n",
       "      document.getElementById(\"5d43c011-cc1b-44c7-848c-4ed0ac41ba43\").textContent = \"BokehJS is loading...\";\n",
       "    },\n",
       "    function(Bokeh) {\n",
       "      console.log(\"Bokeh: injecting CSS: https://cdn.pydata.org/bokeh/release/bokeh-0.12.4.min.css\");\n",
       "      Bokeh.embed.inject_css(\"https://cdn.pydata.org/bokeh/release/bokeh-0.12.4.min.css\");\n",
       "      console.log(\"Bokeh: injecting CSS: https://cdn.pydata.org/bokeh/release/bokeh-widgets-0.12.4.min.css\");\n",
       "      Bokeh.embed.inject_css(\"https://cdn.pydata.org/bokeh/release/bokeh-widgets-0.12.4.min.css\");\n",
       "    }\n",
       "  ];\n",
       "\n",
       "  function run_inline_js() {\n",
       "    \n",
       "    if ((window.Bokeh !== undefined) || (force === true)) {\n",
       "      for (var i = 0; i < inline_js.length; i++) {\n",
       "        inline_js[i](window.Bokeh);\n",
       "      }if (force === true) {\n",
       "        display_loaded();\n",
       "      }} else if (Date.now() < window._bokeh_timeout) {\n",
       "      setTimeout(run_inline_js, 100);\n",
       "    } else if (!window._bokeh_failed_load) {\n",
       "      console.log(\"Bokeh: BokehJS failed to load within specified timeout.\");\n",
       "      window._bokeh_failed_load = true;\n",
       "    } else if (force !== true) {\n",
       "      var cell = $(document.getElementById(\"5d43c011-cc1b-44c7-848c-4ed0ac41ba43\")).parents('.cell').data().cell;\n",
       "      cell.output_area.append_execute_result(NB_LOAD_WARNING)\n",
       "    }\n",
       "\n",
       "  }\n",
       "\n",
       "  if (window._bokeh_is_loading === 0) {\n",
       "    console.log(\"Bokeh: BokehJS loaded, going straight to plotting\");\n",
       "    run_inline_js();\n",
       "  } else {\n",
       "    load_libs(js_urls, function() {\n",
       "      console.log(\"Bokeh: BokehJS plotting callback run at\", now());\n",
       "      run_inline_js();\n",
       "    });\n",
       "  }\n",
       "}(this));"
      ]
     },
     "metadata": {},
     "output_type": "display_data"
    },
    {
     "data": {
      "text/html": [
       "\n",
       "\n",
       "    <div class=\"bk-root\">\n",
       "        <div class=\"bk-plotdiv\" id=\"d3c8ab3d-b0bd-4f79-aeea-3ccb2a136129\"></div>\n",
       "    </div>\n",
       "<script type=\"text/javascript\">\n",
       "  \n",
       "  (function(global) {\n",
       "    function now() {\n",
       "      return new Date();\n",
       "    }\n",
       "  \n",
       "    var force = false;\n",
       "  \n",
       "    if (typeof (window._bokeh_onload_callbacks) === \"undefined\" || force === true) {\n",
       "      window._bokeh_onload_callbacks = [];\n",
       "      window._bokeh_is_loading = undefined;\n",
       "    }\n",
       "  \n",
       "  \n",
       "    \n",
       "    if (typeof (window._bokeh_timeout) === \"undefined\" || force === true) {\n",
       "      window._bokeh_timeout = Date.now() + 0;\n",
       "      window._bokeh_failed_load = false;\n",
       "    }\n",
       "  \n",
       "    var NB_LOAD_WARNING = {'data': {'text/html':\n",
       "       \"<div style='background-color: #fdd'>\\n\"+\n",
       "       \"<p>\\n\"+\n",
       "       \"BokehJS does not appear to have successfully loaded. If loading BokehJS from CDN, this \\n\"+\n",
       "       \"may be due to a slow or bad network connection. Possible fixes:\\n\"+\n",
       "       \"</p>\\n\"+\n",
       "       \"<ul>\\n\"+\n",
       "       \"<li>re-rerun `output_notebook()` to attempt to load from CDN again, or</li>\\n\"+\n",
       "       \"<li>use INLINE resources instead, as so:</li>\\n\"+\n",
       "       \"</ul>\\n\"+\n",
       "       \"<code>\\n\"+\n",
       "       \"from bokeh.resources import INLINE\\n\"+\n",
       "       \"output_notebook(resources=INLINE)\\n\"+\n",
       "       \"</code>\\n\"+\n",
       "       \"</div>\"}};\n",
       "  \n",
       "    function display_loaded() {\n",
       "      if (window.Bokeh !== undefined) {\n",
       "        document.getElementById(\"d3c8ab3d-b0bd-4f79-aeea-3ccb2a136129\").textContent = \"BokehJS successfully loaded.\";\n",
       "      } else if (Date.now() < window._bokeh_timeout) {\n",
       "        setTimeout(display_loaded, 100)\n",
       "      }\n",
       "    }\n",
       "  \n",
       "    function run_callbacks() {\n",
       "      window._bokeh_onload_callbacks.forEach(function(callback) { callback() });\n",
       "      delete window._bokeh_onload_callbacks\n",
       "      console.info(\"Bokeh: all callbacks have finished\");\n",
       "    }\n",
       "  \n",
       "    function load_libs(js_urls, callback) {\n",
       "      window._bokeh_onload_callbacks.push(callback);\n",
       "      if (window._bokeh_is_loading > 0) {\n",
       "        console.log(\"Bokeh: BokehJS is being loaded, scheduling callback at\", now());\n",
       "        return null;\n",
       "      }\n",
       "      if (js_urls == null || js_urls.length === 0) {\n",
       "        run_callbacks();\n",
       "        return null;\n",
       "      }\n",
       "      console.log(\"Bokeh: BokehJS not loaded, scheduling load and callback at\", now());\n",
       "      window._bokeh_is_loading = js_urls.length;\n",
       "      for (var i = 0; i < js_urls.length; i++) {\n",
       "        var url = js_urls[i];\n",
       "        var s = document.createElement('script');\n",
       "        s.src = url;\n",
       "        s.async = false;\n",
       "        s.onreadystatechange = s.onload = function() {\n",
       "          window._bokeh_is_loading--;\n",
       "          if (window._bokeh_is_loading === 0) {\n",
       "            console.log(\"Bokeh: all BokehJS libraries loaded\");\n",
       "            run_callbacks()\n",
       "          }\n",
       "        };\n",
       "        s.onerror = function() {\n",
       "          console.warn(\"failed to load library \" + url);\n",
       "        };\n",
       "        console.log(\"Bokeh: injecting script tag for BokehJS library: \", url);\n",
       "        document.getElementsByTagName(\"head\")[0].appendChild(s);\n",
       "      }\n",
       "    };var element = document.getElementById(\"d3c8ab3d-b0bd-4f79-aeea-3ccb2a136129\");\n",
       "    if (element == null) {\n",
       "      console.log(\"Bokeh: ERROR: autoload.js configured with elementid 'd3c8ab3d-b0bd-4f79-aeea-3ccb2a136129' but no matching script tag was found. \")\n",
       "      return false;\n",
       "    }\n",
       "  \n",
       "    var js_urls = [];\n",
       "  \n",
       "    var inline_js = [\n",
       "      function(Bokeh) {\n",
       "        (function() {\n",
       "          var fn = function() {\n",
       "            var docs_json = {\"afb1224f-263f-47d6-9ec9-1a1165c30b49\":{\"roots\":{\"references\":[{\"attributes\":{\"children\":[{\"id\":\"57495570-ff3d-4368-8cac-c51761cedb4a\",\"type\":\"Slider\"},{\"id\":\"3824e9ce-85be-458b-8197-b260b8dd0663\",\"type\":\"Slider\"}]},\"id\":\"30dffde1-a531-4461-b6b5-ff7ca5e0fcc8\",\"type\":\"WidgetBox\"},{\"attributes\":{\"callback\":null,\"end\":10,\"title\":\"slider1\",\"value\":2},\"id\":\"57495570-ff3d-4368-8cac-c51761cedb4a\",\"type\":\"Slider\"},{\"attributes\":{\"callback\":null,\"end\":100,\"start\":10,\"step\":1,\"title\":\"slider2\",\"value\":20},\"id\":\"3824e9ce-85be-458b-8197-b260b8dd0663\",\"type\":\"Slider\"}],\"root_ids\":[\"30dffde1-a531-4461-b6b5-ff7ca5e0fcc8\"]},\"title\":\"Bokeh Application\",\"version\":\"0.12.4\"}};\n",
       "            var render_items = [{\"docid\":\"afb1224f-263f-47d6-9ec9-1a1165c30b49\",\"elementid\":\"d3c8ab3d-b0bd-4f79-aeea-3ccb2a136129\",\"modelid\":\"30dffde1-a531-4461-b6b5-ff7ca5e0fcc8\"}];\n",
       "            \n",
       "            Bokeh.embed.embed_items(docs_json, render_items);\n",
       "          };\n",
       "          if (document.readyState != \"loading\") fn();\n",
       "          else document.addEventListener(\"DOMContentLoaded\", fn);\n",
       "        })();\n",
       "      },\n",
       "      function(Bokeh) {\n",
       "      }\n",
       "    ];\n",
       "  \n",
       "    function run_inline_js() {\n",
       "      \n",
       "      if ((window.Bokeh !== undefined) || (force === true)) {\n",
       "        for (var i = 0; i < inline_js.length; i++) {\n",
       "          inline_js[i](window.Bokeh);\n",
       "        }if (force === true) {\n",
       "          display_loaded();\n",
       "        }} else if (Date.now() < window._bokeh_timeout) {\n",
       "        setTimeout(run_inline_js, 100);\n",
       "      } else if (!window._bokeh_failed_load) {\n",
       "        console.log(\"Bokeh: BokehJS failed to load within specified timeout.\");\n",
       "        window._bokeh_failed_load = true;\n",
       "      } else if (force !== true) {\n",
       "        var cell = $(document.getElementById(\"d3c8ab3d-b0bd-4f79-aeea-3ccb2a136129\")).parents('.cell').data().cell;\n",
       "        cell.output_area.append_execute_result(NB_LOAD_WARNING)\n",
       "      }\n",
       "  \n",
       "    }\n",
       "  \n",
       "    if (window._bokeh_is_loading === 0) {\n",
       "      console.log(\"Bokeh: BokehJS loaded, going straight to plotting\");\n",
       "      run_inline_js();\n",
       "    } else {\n",
       "      load_libs(js_urls, function() {\n",
       "        console.log(\"Bokeh: BokehJS plotting callback run at\", now());\n",
       "        run_inline_js();\n",
       "      });\n",
       "    }\n",
       "  }(this));\n",
       "</script>"
      ]
     },
     "metadata": {},
     "output_type": "display_data"
    }
   ],
   "source": [
    "# Perform the necessary imports\n",
    "from bokeh.io import output_notebook, show\n",
    "from bokeh.layouts import widgetbox\n",
    "from bokeh.models import Slider\n",
    "\n",
    "# Create first slider: slider1\n",
    "slider1 = Slider(title='slider1', start=0, end=10, step=0.1, value=2)\n",
    "\n",
    "# Create second slider: slider2\n",
    "slider2 = Slider(title='slider2', start=10, end=100, step=1, value=20)\n",
    "\n",
    "# Add slider1 and slider2 to a widgetbox\n",
    "layout = widgetbox(slider1,slider2)\n",
    "\n",
    "# Call the output_notebook() \n",
    "output_notebook()\n",
    "show(layout)\n",
    "\n"
   ]
  },
  {
   "cell_type": "markdown",
   "metadata": {
    "deletable": true,
    "editable": true
   },
   "source": [
    "## How to combine Bokeh models into layouts\n",
    "\n",
    "Let's begin making a Bokeh application that has a simple slider and plot, that also updates the plot based on the slider.\n",
    "\n",
    "In this exercise, your job is to first explicitly create a ColumnDataSource. You will then combine a plot and a slider into a single column layout, and add it to the current document.\n",
    "\n",
    "After you are done, notice how in the figure you generate, the slider will not actually update the plot, because a widget callback has not been defined. You will learn how to update the plot using widget callbacks in the next exercise."
   ]
  },
  {
   "cell_type": "code",
   "execution_count": 2,
   "metadata": {
    "collapsed": false,
    "deletable": true,
    "editable": true
   },
   "outputs": [
    {
     "data": {
      "text/html": [
       "\n",
       "    <div class=\"bk-root\">\n",
       "        <a href=\"http://bokeh.pydata.org\" target=\"_blank\" class=\"bk-logo bk-logo-small bk-logo-notebook\"></a>\n",
       "        <span id=\"134edb24-e959-47ad-811c-f82d20113940\">Loading BokehJS ...</span>\n",
       "    </div>"
      ]
     },
     "metadata": {},
     "output_type": "display_data"
    },
    {
     "data": {
      "application/javascript": [
       "\n",
       "(function(global) {\n",
       "  function now() {\n",
       "    return new Date();\n",
       "  }\n",
       "\n",
       "  var force = true;\n",
       "\n",
       "  if (typeof (window._bokeh_onload_callbacks) === \"undefined\" || force === true) {\n",
       "    window._bokeh_onload_callbacks = [];\n",
       "    window._bokeh_is_loading = undefined;\n",
       "  }\n",
       "\n",
       "\n",
       "  \n",
       "  if (typeof (window._bokeh_timeout) === \"undefined\" || force === true) {\n",
       "    window._bokeh_timeout = Date.now() + 5000;\n",
       "    window._bokeh_failed_load = false;\n",
       "  }\n",
       "\n",
       "  var NB_LOAD_WARNING = {'data': {'text/html':\n",
       "     \"<div style='background-color: #fdd'>\\n\"+\n",
       "     \"<p>\\n\"+\n",
       "     \"BokehJS does not appear to have successfully loaded. If loading BokehJS from CDN, this \\n\"+\n",
       "     \"may be due to a slow or bad network connection. Possible fixes:\\n\"+\n",
       "     \"</p>\\n\"+\n",
       "     \"<ul>\\n\"+\n",
       "     \"<li>re-rerun `output_notebook()` to attempt to load from CDN again, or</li>\\n\"+\n",
       "     \"<li>use INLINE resources instead, as so:</li>\\n\"+\n",
       "     \"</ul>\\n\"+\n",
       "     \"<code>\\n\"+\n",
       "     \"from bokeh.resources import INLINE\\n\"+\n",
       "     \"output_notebook(resources=INLINE)\\n\"+\n",
       "     \"</code>\\n\"+\n",
       "     \"</div>\"}};\n",
       "\n",
       "  function display_loaded() {\n",
       "    if (window.Bokeh !== undefined) {\n",
       "      document.getElementById(\"134edb24-e959-47ad-811c-f82d20113940\").textContent = \"BokehJS successfully loaded.\";\n",
       "    } else if (Date.now() < window._bokeh_timeout) {\n",
       "      setTimeout(display_loaded, 100)\n",
       "    }\n",
       "  }\n",
       "\n",
       "  function run_callbacks() {\n",
       "    window._bokeh_onload_callbacks.forEach(function(callback) { callback() });\n",
       "    delete window._bokeh_onload_callbacks\n",
       "    console.info(\"Bokeh: all callbacks have finished\");\n",
       "  }\n",
       "\n",
       "  function load_libs(js_urls, callback) {\n",
       "    window._bokeh_onload_callbacks.push(callback);\n",
       "    if (window._bokeh_is_loading > 0) {\n",
       "      console.log(\"Bokeh: BokehJS is being loaded, scheduling callback at\", now());\n",
       "      return null;\n",
       "    }\n",
       "    if (js_urls == null || js_urls.length === 0) {\n",
       "      run_callbacks();\n",
       "      return null;\n",
       "    }\n",
       "    console.log(\"Bokeh: BokehJS not loaded, scheduling load and callback at\", now());\n",
       "    window._bokeh_is_loading = js_urls.length;\n",
       "    for (var i = 0; i < js_urls.length; i++) {\n",
       "      var url = js_urls[i];\n",
       "      var s = document.createElement('script');\n",
       "      s.src = url;\n",
       "      s.async = false;\n",
       "      s.onreadystatechange = s.onload = function() {\n",
       "        window._bokeh_is_loading--;\n",
       "        if (window._bokeh_is_loading === 0) {\n",
       "          console.log(\"Bokeh: all BokehJS libraries loaded\");\n",
       "          run_callbacks()\n",
       "        }\n",
       "      };\n",
       "      s.onerror = function() {\n",
       "        console.warn(\"failed to load library \" + url);\n",
       "      };\n",
       "      console.log(\"Bokeh: injecting script tag for BokehJS library: \", url);\n",
       "      document.getElementsByTagName(\"head\")[0].appendChild(s);\n",
       "    }\n",
       "  };var element = document.getElementById(\"134edb24-e959-47ad-811c-f82d20113940\");\n",
       "  if (element == null) {\n",
       "    console.log(\"Bokeh: ERROR: autoload.js configured with elementid '134edb24-e959-47ad-811c-f82d20113940' but no matching script tag was found. \")\n",
       "    return false;\n",
       "  }\n",
       "\n",
       "  var js_urls = [\"https://cdn.pydata.org/bokeh/release/bokeh-0.12.4.min.js\", \"https://cdn.pydata.org/bokeh/release/bokeh-widgets-0.12.4.min.js\"];\n",
       "\n",
       "  var inline_js = [\n",
       "    function(Bokeh) {\n",
       "      Bokeh.set_log_level(\"info\");\n",
       "    },\n",
       "    \n",
       "    function(Bokeh) {\n",
       "      \n",
       "      document.getElementById(\"134edb24-e959-47ad-811c-f82d20113940\").textContent = \"BokehJS is loading...\";\n",
       "    },\n",
       "    function(Bokeh) {\n",
       "      console.log(\"Bokeh: injecting CSS: https://cdn.pydata.org/bokeh/release/bokeh-0.12.4.min.css\");\n",
       "      Bokeh.embed.inject_css(\"https://cdn.pydata.org/bokeh/release/bokeh-0.12.4.min.css\");\n",
       "      console.log(\"Bokeh: injecting CSS: https://cdn.pydata.org/bokeh/release/bokeh-widgets-0.12.4.min.css\");\n",
       "      Bokeh.embed.inject_css(\"https://cdn.pydata.org/bokeh/release/bokeh-widgets-0.12.4.min.css\");\n",
       "    }\n",
       "  ];\n",
       "\n",
       "  function run_inline_js() {\n",
       "    \n",
       "    if ((window.Bokeh !== undefined) || (force === true)) {\n",
       "      for (var i = 0; i < inline_js.length; i++) {\n",
       "        inline_js[i](window.Bokeh);\n",
       "      }if (force === true) {\n",
       "        display_loaded();\n",
       "      }} else if (Date.now() < window._bokeh_timeout) {\n",
       "      setTimeout(run_inline_js, 100);\n",
       "    } else if (!window._bokeh_failed_load) {\n",
       "      console.log(\"Bokeh: BokehJS failed to load within specified timeout.\");\n",
       "      window._bokeh_failed_load = true;\n",
       "    } else if (force !== true) {\n",
       "      var cell = $(document.getElementById(\"134edb24-e959-47ad-811c-f82d20113940\")).parents('.cell').data().cell;\n",
       "      cell.output_area.append_execute_result(NB_LOAD_WARNING)\n",
       "    }\n",
       "\n",
       "  }\n",
       "\n",
       "  if (window._bokeh_is_loading === 0) {\n",
       "    console.log(\"Bokeh: BokehJS loaded, going straight to plotting\");\n",
       "    run_inline_js();\n",
       "  } else {\n",
       "    load_libs(js_urls, function() {\n",
       "      console.log(\"Bokeh: BokehJS plotting callback run at\", now());\n",
       "      run_inline_js();\n",
       "    });\n",
       "  }\n",
       "}(this));"
      ]
     },
     "metadata": {},
     "output_type": "display_data"
    },
    {
     "data": {
      "text/html": [
       "\n",
       "\n",
       "    <div class=\"bk-root\">\n",
       "        <div class=\"bk-plotdiv\" id=\"14b99e78-79cf-485f-8629-f1d88aa9f6f9\"></div>\n",
       "    </div>\n",
       "<script type=\"text/javascript\">\n",
       "  \n",
       "  (function(global) {\n",
       "    function now() {\n",
       "      return new Date();\n",
       "    }\n",
       "  \n",
       "    var force = false;\n",
       "  \n",
       "    if (typeof (window._bokeh_onload_callbacks) === \"undefined\" || force === true) {\n",
       "      window._bokeh_onload_callbacks = [];\n",
       "      window._bokeh_is_loading = undefined;\n",
       "    }\n",
       "  \n",
       "  \n",
       "    \n",
       "    if (typeof (window._bokeh_timeout) === \"undefined\" || force === true) {\n",
       "      window._bokeh_timeout = Date.now() + 0;\n",
       "      window._bokeh_failed_load = false;\n",
       "    }\n",
       "  \n",
       "    var NB_LOAD_WARNING = {'data': {'text/html':\n",
       "       \"<div style='background-color: #fdd'>\\n\"+\n",
       "       \"<p>\\n\"+\n",
       "       \"BokehJS does not appear to have successfully loaded. If loading BokehJS from CDN, this \\n\"+\n",
       "       \"may be due to a slow or bad network connection. Possible fixes:\\n\"+\n",
       "       \"</p>\\n\"+\n",
       "       \"<ul>\\n\"+\n",
       "       \"<li>re-rerun `output_notebook()` to attempt to load from CDN again, or</li>\\n\"+\n",
       "       \"<li>use INLINE resources instead, as so:</li>\\n\"+\n",
       "       \"</ul>\\n\"+\n",
       "       \"<code>\\n\"+\n",
       "       \"from bokeh.resources import INLINE\\n\"+\n",
       "       \"output_notebook(resources=INLINE)\\n\"+\n",
       "       \"</code>\\n\"+\n",
       "       \"</div>\"}};\n",
       "  \n",
       "    function display_loaded() {\n",
       "      if (window.Bokeh !== undefined) {\n",
       "        document.getElementById(\"14b99e78-79cf-485f-8629-f1d88aa9f6f9\").textContent = \"BokehJS successfully loaded.\";\n",
       "      } else if (Date.now() < window._bokeh_timeout) {\n",
       "        setTimeout(display_loaded, 100)\n",
       "      }\n",
       "    }\n",
       "  \n",
       "    function run_callbacks() {\n",
       "      window._bokeh_onload_callbacks.forEach(function(callback) { callback() });\n",
       "      delete window._bokeh_onload_callbacks\n",
       "      console.info(\"Bokeh: all callbacks have finished\");\n",
       "    }\n",
       "  \n",
       "    function load_libs(js_urls, callback) {\n",
       "      window._bokeh_onload_callbacks.push(callback);\n",
       "      if (window._bokeh_is_loading > 0) {\n",
       "        console.log(\"Bokeh: BokehJS is being loaded, scheduling callback at\", now());\n",
       "        return null;\n",
       "      }\n",
       "      if (js_urls == null || js_urls.length === 0) {\n",
       "        run_callbacks();\n",
       "        return null;\n",
       "      }\n",
       "      console.log(\"Bokeh: BokehJS not loaded, scheduling load and callback at\", now());\n",
       "      window._bokeh_is_loading = js_urls.length;\n",
       "      for (var i = 0; i < js_urls.length; i++) {\n",
       "        var url = js_urls[i];\n",
       "        var s = document.createElement('script');\n",
       "        s.src = url;\n",
       "        s.async = false;\n",
       "        s.onreadystatechange = s.onload = function() {\n",
       "          window._bokeh_is_loading--;\n",
       "          if (window._bokeh_is_loading === 0) {\n",
       "            console.log(\"Bokeh: all BokehJS libraries loaded\");\n",
       "            run_callbacks()\n",
       "          }\n",
       "        };\n",
       "        s.onerror = function() {\n",
       "          console.warn(\"failed to load library \" + url);\n",
       "        };\n",
       "        console.log(\"Bokeh: injecting script tag for BokehJS library: \", url);\n",
       "        document.getElementsByTagName(\"head\")[0].appendChild(s);\n",
       "      }\n",
       "    };var element = document.getElementById(\"14b99e78-79cf-485f-8629-f1d88aa9f6f9\");\n",
       "    if (element == null) {\n",
       "      console.log(\"Bokeh: ERROR: autoload.js configured with elementid '14b99e78-79cf-485f-8629-f1d88aa9f6f9' but no matching script tag was found. \")\n",
       "      return false;\n",
       "    }\n",
       "  \n",
       "    var js_urls = [];\n",
       "  \n",
       "    var inline_js = [\n",
       "      function(Bokeh) {\n",
       "        (function() {\n",
       "          var fn = function() {\n",
       "            var docs_json = {\"a18f67e2-b2ad-4c1a-939a-58777ad11d33\":{\"roots\":{\"references\":[{\"attributes\":{\"callback\":null},\"id\":\"b885e1c3-6b0e-4a69-bcc4-4b794232848b\",\"type\":\"DataRange1d\"},{\"attributes\":{\"plot\":{\"id\":\"849c19b2-b053-4395-8b78-aff9d99486ac\",\"subtype\":\"Figure\",\"type\":\"Plot\"},\"ticker\":{\"id\":\"32436ae2-4078-42f4-af3c-5472ac0c00dd\",\"type\":\"BasicTicker\"}},\"id\":\"fa925656-ea4d-4f1f-897a-2bddb1996447\",\"type\":\"Grid\"},{\"attributes\":{\"axis_label\":\"Sin(x)\",\"formatter\":{\"id\":\"33514e92-26a2-4865-ae9a-d2a1a3f7b91f\",\"type\":\"BasicTickFormatter\"},\"plot\":{\"id\":\"849c19b2-b053-4395-8b78-aff9d99486ac\",\"subtype\":\"Figure\",\"type\":\"Plot\"},\"ticker\":{\"id\":\"6fadbed1-ef43-4c63-a586-2e7956c60b6f\",\"type\":\"BasicTicker\"}},\"id\":\"b5721e62-a286-4b91-8b66-ff436f5c7a77\",\"type\":\"LinearAxis\"},{\"attributes\":{\"below\":[{\"id\":\"640c75c1-5251-4e41-a4ff-9ee6cfacd029\",\"type\":\"LinearAxis\"}],\"left\":[{\"id\":\"b5721e62-a286-4b91-8b66-ff436f5c7a77\",\"type\":\"LinearAxis\"}],\"plot_height\":300,\"plot_width\":400,\"renderers\":[{\"id\":\"640c75c1-5251-4e41-a4ff-9ee6cfacd029\",\"type\":\"LinearAxis\"},{\"id\":\"fa925656-ea4d-4f1f-897a-2bddb1996447\",\"type\":\"Grid\"},{\"id\":\"b5721e62-a286-4b91-8b66-ff436f5c7a77\",\"type\":\"LinearAxis\"},{\"id\":\"8c03aab0-beb3-49f6-b5f9-ba6fe603afb0\",\"type\":\"Grid\"},{\"id\":\"66de453b-9706-4028-b02e-0386b030007b\",\"type\":\"BoxAnnotation\"},{\"id\":\"504d4218-f187-4f58-9ab2-0c16b608642c\",\"type\":\"GlyphRenderer\"}],\"title\":{\"id\":\"314596ed-1a44-4272-9866-86f6a3240674\",\"type\":\"Title\"},\"tool_events\":{\"id\":\"34d3e5d1-8680-4326-852a-3ec5ecd3b8ca\",\"type\":\"ToolEvents\"},\"toolbar\":{\"id\":\"1134a28d-43db-4de1-957c-89b580f1c402\",\"type\":\"Toolbar\"},\"x_range\":{\"id\":\"b0765fe6-4809-458d-b950-1973cd92a6ed\",\"type\":\"DataRange1d\"},\"y_range\":{\"id\":\"b885e1c3-6b0e-4a69-bcc4-4b794232848b\",\"type\":\"DataRange1d\"}},\"id\":\"849c19b2-b053-4395-8b78-aff9d99486ac\",\"subtype\":\"Figure\",\"type\":\"Plot\"},{\"attributes\":{},\"id\":\"6fadbed1-ef43-4c63-a586-2e7956c60b6f\",\"type\":\"BasicTicker\"},{\"attributes\":{\"dimension\":1,\"plot\":{\"id\":\"849c19b2-b053-4395-8b78-aff9d99486ac\",\"subtype\":\"Figure\",\"type\":\"Plot\"},\"ticker\":{\"id\":\"6fadbed1-ef43-4c63-a586-2e7956c60b6f\",\"type\":\"BasicTicker\"}},\"id\":\"8c03aab0-beb3-49f6-b5f9-ba6fe603afb0\",\"type\":\"Grid\"},{\"attributes\":{\"active_drag\":\"auto\",\"active_scroll\":\"auto\",\"active_tap\":\"auto\",\"tools\":[{\"id\":\"0d362ec9-9776-44f4-be5c-0db6787510ef\",\"type\":\"PanTool\"},{\"id\":\"6a6f3ae6-ab4e-491b-83c5-3430dbe8dc07\",\"type\":\"WheelZoomTool\"},{\"id\":\"947227df-6e8f-4e2a-b010-4ee0eb42b537\",\"type\":\"BoxZoomTool\"},{\"id\":\"52d33b2a-817e-4657-9b8c-f16edc4a08f1\",\"type\":\"SaveTool\"},{\"id\":\"a8e1fb13-512e-4e9c-8363-6ac06edc5a24\",\"type\":\"ResetTool\"},{\"id\":\"c9667562-37c6-4226-99d4-a50c94271ef4\",\"type\":\"HelpTool\"}]},\"id\":\"1134a28d-43db-4de1-957c-89b580f1c402\",\"type\":\"Toolbar\"},{\"attributes\":{\"callback\":null,\"column_names\":[\"x\",\"y\"],\"data\":{\"x\":{\"__ndarray__\":\"AAAAAAAAAACamZmZmZm5P5qZmZmZmck/NDMzMzMz0z+amZmZmZnZPwAAAAAAAOA/NDMzMzMz4z9nZmZmZmbmP5qZmZmZmek/zczMzMzM7D8AAAAAAADwP5qZmZmZmfE/NDMzMzMz8z/NzMzMzMz0P2dmZmZmZvY/AAAAAAAA+D+amZmZmZn5PzQzMzMzM/s/zczMzMzM/D9nZmZmZmb+PwAAAAAAAABAzczMzMzMAECamZmZmZkBQGdmZmZmZgJANDMzMzMzA0AAAAAAAAAEQM3MzMzMzARAmpmZmZmZBUBnZmZmZmYGQDQzMzMzMwdAAAAAAAAACEDNzMzMzMwIQJqZmZmZmQlAZ2ZmZmZmCkA0MzMzMzMLQAAAAAAAAAxAzczMzMzMDECamZmZmZkNQGdmZmZmZg5ANDMzMzMzD0AAAAAAAAAQQGdmZmZmZhBAzczMzMzMEEAzMzMzMzMRQJqZmZmZmRFAAAAAAAAAEkBnZmZmZmYSQM3MzMzMzBJANDMzMzMzE0CamZmZmZkTQAAAAAAAABRAZ2ZmZmZmFEDNzMzMzMwUQDQzMzMzMxVAmpmZmZmZFUAAAAAAAAAWQGdmZmZmZhZAzczMzMzMFkA0MzMzMzMXQJqZmZmZmRdAAAAAAAAAGEBnZmZmZmYYQM3MzMzMzBhANDMzMzMzGUCamZmZmZkZQAAAAAAAABpAZ2ZmZmZmGkDNzMzMzMwaQDQzMzMzMxtAmpmZmZmZG0AAAAAAAAAcQGdmZmZmZhxAzczMzMzMHEA0MzMzMzMdQJqZmZmZmR1AAAAAAAAAHkBnZmZmZmYeQM3MzMzMzB5ANDMzMzMzH0CamZmZmZkfQAAAAAAAACBAMzMzMzMzIEBnZmZmZmYgQJqZmZmZmSBAzczMzMzMIEAAAAAAAAAhQDMzMzMzMyFAZ2ZmZmZmIUCamZmZmZkhQM3MzMzMzCFAAAAAAAAAIkAzMzMzMzMiQGdmZmZmZiJAmpmZmZmZIkDNzMzMzMwiQAAAAAAAACNANDMzMzMzI0BnZmZmZmYjQJqZmZmZmSNAzczMzMzMI0A=\",\"dtype\":\"float64\",\"shape\":[100]},\"y\":{\"__ndarray__\":\"AAAAAAAAAAAsy4vLro65P7zSPSP/bck/NLq6lc3p0j9rZyvpOuzYP/AFS3Tort4/WkGlF40R4j+5GUZpbp3kP83+v8KU9OY/QahdmAMR6T/uDAmPVO3qPzhjLUzFhOw/xVUaokPT7T9LHsX5d9XuPwPhRN/NiO8/i20sm3rr7z/FQuDHgfzvP7aYL9e3u+8/8BW9gcIp7z9XOBofF0juP0a00er2GO0/+3LrP2mf6z8I16rZM9/pPyIvWC3R3Oc/mNHD9WSd5T+xys8NrybjP7uFoLv8fuA/DKckJDFa2z/A5V0jcnDVP9MwSNa4n84/W9W2bTgQwj8uEJiCD0qlPzIt6Dk3462/lwy3ygIxxL90TP8QyVrQvx9iun47c9a/8dHwQ0FS3L9BGy7savTgv6DA7P9WlOO/zrMfLS4C5r+uHtzduTfov73I4npTL+q/2BLQ3/Lj678ligE6O1Htv+8oRTGGc+6/gEDHPe1H77+67F0TUczvv1LsNw9f/++//z0MmpTg77+k6yJ2QHDvvzOZ4PWBr+6/uSLYHEag7b/XJLqyQkXsvzcSvFTvoeq/cAUyl3y66L9XsApOyZPmv7T1lhdWM+S/oMd6STef4b/K347HCrzdvxu9C2SY7de/wKKwivHh0b9c+zPXGVHHvx3NvttYRbW/fj/Lwqk3kT8sKjUvK9a9PzzLxkANics/kgnpL0vw0z/8iDWkD+nZPwkR6pqNn98/vxrYG5SC4j8ICm3CCAblP4tjZOG2U+c/D8njJbpl6T9JdB3cxjbrP/YpBXs3wuw/MK78hhgE7j8P+BCtMvnuP1hU7vwSn+8/L7eALBH07z+pXzrVU/fvP3vPKKDSqO8/Z7RJW1YJ7z8uM+n3dhruP09hK3eX3uw/mfctz99Y6z/82V/YNI3pPy2xtFcugOc/96EuPws35T/d0spCpLfiP4A3I+RcCOA/kS8MNiZg2j8X2Z+JG2zUP2ub1R2oh8w/UCzOvj7cvz/iQUSoul6ZP3onpJQaPbO/KLcVCFdQxr9zobGuhmTRvwJus+BkdNe/cLYgoURI3b8=\",\"dtype\":\"float64\",\"shape\":[100]}}},\"id\":\"6de821d0-bc72-447d-a0d0-57707403e594\",\"type\":\"ColumnDataSource\"},{\"attributes\":{\"bottom_units\":\"screen\",\"fill_alpha\":{\"value\":0.5},\"fill_color\":{\"value\":\"lightgrey\"},\"left_units\":\"screen\",\"level\":\"overlay\",\"line_alpha\":{\"value\":1.0},\"line_color\":{\"value\":\"black\"},\"line_dash\":[4,4],\"line_width\":{\"value\":2},\"plot\":null,\"render_mode\":\"css\",\"right_units\":\"screen\",\"top_units\":\"screen\"},\"id\":\"66de453b-9706-4028-b02e-0386b030007b\",\"type\":\"BoxAnnotation\"},{\"attributes\":{\"plot\":{\"id\":\"849c19b2-b053-4395-8b78-aff9d99486ac\",\"subtype\":\"Figure\",\"type\":\"Plot\"}},\"id\":\"0d362ec9-9776-44f4-be5c-0db6787510ef\",\"type\":\"PanTool\"},{\"attributes\":{\"plot\":{\"id\":\"849c19b2-b053-4395-8b78-aff9d99486ac\",\"subtype\":\"Figure\",\"type\":\"Plot\"}},\"id\":\"6a6f3ae6-ab4e-491b-83c5-3430dbe8dc07\",\"type\":\"WheelZoomTool\"},{\"attributes\":{\"overlay\":{\"id\":\"66de453b-9706-4028-b02e-0386b030007b\",\"type\":\"BoxAnnotation\"},\"plot\":{\"id\":\"849c19b2-b053-4395-8b78-aff9d99486ac\",\"subtype\":\"Figure\",\"type\":\"Plot\"}},\"id\":\"947227df-6e8f-4e2a-b010-4ee0eb42b537\",\"type\":\"BoxZoomTool\"},{\"attributes\":{\"plot\":{\"id\":\"849c19b2-b053-4395-8b78-aff9d99486ac\",\"subtype\":\"Figure\",\"type\":\"Plot\"}},\"id\":\"52d33b2a-817e-4657-9b8c-f16edc4a08f1\",\"type\":\"SaveTool\"},{\"attributes\":{\"plot\":{\"id\":\"849c19b2-b053-4395-8b78-aff9d99486ac\",\"subtype\":\"Figure\",\"type\":\"Plot\"}},\"id\":\"a8e1fb13-512e-4e9c-8363-6ac06edc5a24\",\"type\":\"ResetTool\"},{\"attributes\":{},\"id\":\"33514e92-26a2-4865-ae9a-d2a1a3f7b91f\",\"type\":\"BasicTickFormatter\"},{\"attributes\":{\"plot\":{\"id\":\"849c19b2-b053-4395-8b78-aff9d99486ac\",\"subtype\":\"Figure\",\"type\":\"Plot\"}},\"id\":\"c9667562-37c6-4226-99d4-a50c94271ef4\",\"type\":\"HelpTool\"},{\"attributes\":{\"line_alpha\":{\"value\":0.1},\"line_color\":{\"value\":\"#1f77b4\"},\"x\":{\"field\":\"x\"},\"y\":{\"field\":\"y\"}},\"id\":\"9d406dc5-4086-4539-bbd7-da50e4e0cadf\",\"type\":\"Line\"},{\"attributes\":{\"children\":[{\"id\":\"57be23b0-e630-4e67-ab32-94704d85fdba\",\"type\":\"WidgetBox\"},{\"id\":\"849c19b2-b053-4395-8b78-aff9d99486ac\",\"subtype\":\"Figure\",\"type\":\"Plot\"}]},\"id\":\"a4d94b9d-675b-403f-bf5f-9be7a3e815cd\",\"type\":\"Column\"},{\"attributes\":{\"children\":[{\"id\":\"27f9e258-e50e-47e4-927d-ed7a3dc8fab0\",\"type\":\"Slider\"}]},\"id\":\"57be23b0-e630-4e67-ab32-94704d85fdba\",\"type\":\"WidgetBox\"},{\"attributes\":{\"plot\":null,\"text\":\"\"},\"id\":\"314596ed-1a44-4272-9866-86f6a3240674\",\"type\":\"Title\"},{\"attributes\":{\"callback\":null,\"end\":10,\"title\":\"slider1\",\"value\":2},\"id\":\"27f9e258-e50e-47e4-927d-ed7a3dc8fab0\",\"type\":\"Slider\"},{\"attributes\":{\"callback\":null},\"id\":\"b0765fe6-4809-458d-b950-1973cd92a6ed\",\"type\":\"DataRange1d\"},{\"attributes\":{},\"id\":\"34d3e5d1-8680-4326-852a-3ec5ecd3b8ca\",\"type\":\"ToolEvents\"},{\"attributes\":{},\"id\":\"32436ae2-4078-42f4-af3c-5472ac0c00dd\",\"type\":\"BasicTicker\"},{\"attributes\":{\"line_color\":{\"value\":\"#1f77b4\"},\"x\":{\"field\":\"x\"},\"y\":{\"field\":\"y\"}},\"id\":\"6b56eff8-c524-4742-af3a-909874854d59\",\"type\":\"Line\"},{\"attributes\":{},\"id\":\"772fce6f-b611-4a09-b808-31d727b08350\",\"type\":\"BasicTickFormatter\"},{\"attributes\":{\"data_source\":{\"id\":\"6de821d0-bc72-447d-a0d0-57707403e594\",\"type\":\"ColumnDataSource\"},\"glyph\":{\"id\":\"6b56eff8-c524-4742-af3a-909874854d59\",\"type\":\"Line\"},\"hover_glyph\":null,\"nonselection_glyph\":{\"id\":\"9d406dc5-4086-4539-bbd7-da50e4e0cadf\",\"type\":\"Line\"},\"selection_glyph\":null},\"id\":\"504d4218-f187-4f58-9ab2-0c16b608642c\",\"type\":\"GlyphRenderer\"},{\"attributes\":{\"axis_label\":\"x values\",\"formatter\":{\"id\":\"772fce6f-b611-4a09-b808-31d727b08350\",\"type\":\"BasicTickFormatter\"},\"plot\":{\"id\":\"849c19b2-b053-4395-8b78-aff9d99486ac\",\"subtype\":\"Figure\",\"type\":\"Plot\"},\"ticker\":{\"id\":\"32436ae2-4078-42f4-af3c-5472ac0c00dd\",\"type\":\"BasicTicker\"}},\"id\":\"640c75c1-5251-4e41-a4ff-9ee6cfacd029\",\"type\":\"LinearAxis\"}],\"root_ids\":[\"a4d94b9d-675b-403f-bf5f-9be7a3e815cd\"]},\"title\":\"Bokeh Application\",\"version\":\"0.12.4\"}};\n",
       "            var render_items = [{\"docid\":\"a18f67e2-b2ad-4c1a-939a-58777ad11d33\",\"elementid\":\"14b99e78-79cf-485f-8629-f1d88aa9f6f9\",\"modelid\":\"a4d94b9d-675b-403f-bf5f-9be7a3e815cd\"}];\n",
       "            \n",
       "            Bokeh.embed.embed_items(docs_json, render_items);\n",
       "          };\n",
       "          if (document.readyState != \"loading\") fn();\n",
       "          else document.addEventListener(\"DOMContentLoaded\", fn);\n",
       "        })();\n",
       "      },\n",
       "      function(Bokeh) {\n",
       "      }\n",
       "    ];\n",
       "  \n",
       "    function run_inline_js() {\n",
       "      \n",
       "      if ((window.Bokeh !== undefined) || (force === true)) {\n",
       "        for (var i = 0; i < inline_js.length; i++) {\n",
       "          inline_js[i](window.Bokeh);\n",
       "        }if (force === true) {\n",
       "          display_loaded();\n",
       "        }} else if (Date.now() < window._bokeh_timeout) {\n",
       "        setTimeout(run_inline_js, 100);\n",
       "      } else if (!window._bokeh_failed_load) {\n",
       "        console.log(\"Bokeh: BokehJS failed to load within specified timeout.\");\n",
       "        window._bokeh_failed_load = true;\n",
       "      } else if (force !== true) {\n",
       "        var cell = $(document.getElementById(\"14b99e78-79cf-485f-8629-f1d88aa9f6f9\")).parents('.cell').data().cell;\n",
       "        cell.output_area.append_execute_result(NB_LOAD_WARNING)\n",
       "      }\n",
       "  \n",
       "    }\n",
       "  \n",
       "    if (window._bokeh_is_loading === 0) {\n",
       "      console.log(\"Bokeh: BokehJS loaded, going straight to plotting\");\n",
       "      run_inline_js();\n",
       "    } else {\n",
       "      load_libs(js_urls, function() {\n",
       "        console.log(\"Bokeh: BokehJS plotting callback run at\", now());\n",
       "        run_inline_js();\n",
       "      });\n",
       "    }\n",
       "  }(this));\n",
       "</script>"
      ]
     },
     "metadata": {},
     "output_type": "display_data"
    }
   ],
   "source": [
    "# Import the ColumnDataSource, figure class from bokeh.plotting\n",
    "from bokeh.plotting import ColumnDataSource, figure\n",
    "\n",
    "# Import row from bokeh.layouts\n",
    "from bokeh.layouts import column\n",
    "\n",
    "# Import the widgets\n",
    "from bokeh.layouts import widgetbox\n",
    "from bokeh.models import Slider\n",
    "\n",
    "# Import numpy\n",
    "import numpy as np\n",
    "\n",
    "# Import functions to draw the figure in notebook\n",
    "from bokeh.io import output_notebook, show\n",
    "\n",
    "\n",
    "# Dataset\n",
    "x = np.arange(0,10,0.1)\n",
    "y = np.sin(x)\n",
    "\n",
    "# Create ColumnDataSource: source\n",
    "source = ColumnDataSource(data={'x': x, 'y': y})\n",
    "\n",
    "# Create a figure\n",
    "p = figure(x_axis_label='x values', y_axis_label='Sin(x)',\n",
    "          width=400, height=300)\n",
    "\n",
    "# Add a line to the plot\n",
    "p.line('x', 'y', source=source)\n",
    "\n",
    "# Create first slider: slider1\n",
    "slider = Slider(title='slider1', start=0, end=10, step=0.1, value=2)\n",
    "\n",
    "# Create a column layout: layout\n",
    "layout = column(widgetbox(slider),p)\n",
    "\n",
    "# Call the output_notebook() \n",
    "output_notebook()\n",
    "show(layout)\n"
   ]
  },
  {
   "cell_type": "markdown",
   "metadata": {
    "deletable": true,
    "editable": true
   },
   "source": [
    "## Learn about widget callbacks\n",
    "\n",
    "You will now learn how to use widget callbacks to update the state of a Bokeh application, and in turn, the data that is presented to the user.\n",
    "\n",
    "Your job in this exercise is to use the slider's **on_change()** function to update the plot's data from the previous example. NumPy's **sin()** function will be used to update the y-axis data of the plot.\n",
    "\n",
    "Now that you have added a widget callback, notice how as you move the slider of your app, the figure also updates!\n",
    "\n",
    "\n",
    "> **Note**\n",
    "\n",
    "> It is currently possible to push udpates from python, to BokehJS (i.e., to update plots, etc.) using push_notebook(). It is not currently possible to get events or updates of a clean way from the other direction (e.g. to have a range or selection update trigger a python callback) without using a Bokeh Server ([reference](http://bokeh.pydata.org/en/0.11.0/docs/user_guide/server.html. Adding the capability for two-way Python<–>JS)) synchronization through Jupyter comms is a planned future addition.\n",
    "\n",
    "> Excelent issue [here](https://groups.google.com/a/continuum.io/forum/#!topic/bokeh/YTum5CcI2y)."
   ]
  },
  {
   "cell_type": "code",
   "execution_count": 3,
   "metadata": {
    "collapsed": false,
    "deletable": true,
    "editable": true
   },
   "outputs": [
    {
     "name": "stdout",
     "output_type": "stream",
     "text": [
      "Writing mybokeh.py\n"
     ]
    }
   ],
   "source": [
    "%%writefile mybokeh.py\n",
    "#write/save cell contents into mybokeh.py (use -a to append). \n",
    "\n",
    "# Import the ColumnDataSource, figure class from bokeh.plotting\n",
    "from bokeh.plotting import ColumnDataSource, figure\n",
    "\n",
    "# Import the widgets\n",
    "from bokeh.layouts import widgetbox, column\n",
    "from bokeh.models import Slider\n",
    "\n",
    "# Import numpy\n",
    "import numpy as np\n",
    "\n",
    "# Import current document\n",
    "from bokeh.io import curdoc\n"
   ]
  },
  {
   "cell_type": "code",
   "execution_count": 4,
   "metadata": {
    "collapsed": false,
    "deletable": true,
    "editable": true
   },
   "outputs": [
    {
     "name": "stdout",
     "output_type": "stream",
     "text": [
      "Appending to mybokeh.py\n"
     ]
    }
   ],
   "source": [
    "%%writefile -a mybokeh.py\n",
    "#write/save cell contents into mybokeh.py (use -a to append). \n",
    "\n",
    "\n",
    "# Define a callback function: callback\n",
    "def callback(attr, old, new):\n",
    "\n",
    "    # Read the current value of the slider: scale\n",
    "    scale = slider.value\n",
    "\n",
    "    # Compute the updated y using np.cos(scale/x): new_y\n",
    "    new_y = np.sin(scale/x)\n",
    "    \n",
    "    # Update source with the new data values\n",
    "    source.data = {'x': x, 'y': new_y}    "
   ]
  },
  {
   "cell_type": "code",
   "execution_count": 5,
   "metadata": {
    "collapsed": false,
    "deletable": true,
    "editable": true
   },
   "outputs": [
    {
     "name": "stdout",
     "output_type": "stream",
     "text": [
      "Appending to mybokeh.py\n"
     ]
    }
   ],
   "source": [
    "%%writefile -a mybokeh.py\n",
    "\n",
    "# Dataset\n",
    "x = np.arange(0,10,0.1)\n",
    "y = np.sin(x)\n",
    "\n",
    "# Create ColumnDataSource: source\n",
    "source = ColumnDataSource(data={'x': x, 'y': y})\n",
    "\n",
    "# Create a figure\n",
    "p = figure(x_axis_label='x values', y_axis_label='Sin(x)')\n",
    "\n",
    "# Add a line to the plot\n",
    "p.line('x', 'y', source=source)\n",
    "\n",
    "# Create first slider: slider1\n",
    "slider = Slider(title='slider1', start=0, end=10, step=0.1, value=2)\n"
   ]
  },
  {
   "cell_type": "code",
   "execution_count": 6,
   "metadata": {
    "collapsed": false,
    "deletable": true,
    "editable": true
   },
   "outputs": [
    {
     "name": "stdout",
     "output_type": "stream",
     "text": [
      "Appending to mybokeh.py\n"
     ]
    }
   ],
   "source": [
    "%%writefile -a mybokeh.py\n",
    "\n",
    "# Attach the callback to the 'value' property of slider\n",
    "slider.on_change('value',callback)\n",
    "\n",
    "# Create layout and add to current document\n",
    "layout = column(widgetbox(slider), p)\n",
    "curdoc().add_root(layout)"
   ]
  },
  {
   "cell_type": "code",
   "execution_count": null,
   "metadata": {
    "collapsed": true,
    "deletable": true,
    "editable": true
   },
   "outputs": [],
   "source": [
    "# Open a terminal and execute\n",
    "# bokeh serve mybokeh.py\n",
    "\n",
    "# Open the browser and typed\n",
    "# http://localhost:5006/mybokeh\n",
    "\n",
    "# reference\n",
    "# http://bokeh.pydata.org/en/latest/docs/user_guide/server.html"
   ]
  },
  {
   "cell_type": "markdown",
   "metadata": {
    "deletable": true,
    "editable": true
   },
   "source": [
    "![Tabular Dataset](http://bokeh.pydata.org/en/latest/_images/bokeh_serve_client.svg)"
   ]
  },
  {
   "cell_type": "markdown",
   "metadata": {
    "deletable": true,
    "editable": true
   },
   "source": [
    "## Proof of Concept — embedding a Bokeh server in a Notebook\n",
    "\n",
    "\n",
    "[Bokeh's Author reference](https://github.com/bokeh/bokeh/blob/0.12.4/examples/howto/server_embed/notebook_embed.ipynb)\n",
    "\n",
    "This notebook shows an apprioach to embedding Bokeh server application inside Jupyter notebook. Note that this method has some potential drawbacks, and that in future releases, there will be new APIs to mitigate these drawbacks and streamline usage."
   ]
  },
  {
   "cell_type": "code",
   "execution_count": null,
   "metadata": {
    "collapsed": true,
    "deletable": true,
    "editable": true
   },
   "outputs": [],
   "source": [
    "# Import the ColumnDataSource, figure class from bokeh.plotting\n",
    "from bokeh.plotting import ColumnDataSource, figure\n",
    "\n",
    "# Import the widgets\n",
    "from bokeh.layouts import widgetbox, column\n",
    "from bokeh.models import Slider\n",
    "\n",
    "# Import numpy\n",
    "import numpy as np\n"
   ]
  },
  {
   "cell_type": "markdown",
   "metadata": {
    "deletable": true,
    "editable": true
   },
   "source": [
    "There are various application handlers that can be used to build up Bokeh documents. For example, there is a ScriptHandler that uses the code from a .py file to produce Bokeh documents. This is the handler that is used when we run bokeh serve app.py. Here we are going to use the lesser-known FunctionHandler, that gets configured with a plain Python function to build up a document.\n",
    "\n",
    "Here is the function modify_doc(doc) that defines our app:\n"
   ]
  },
  {
   "cell_type": "code",
   "execution_count": null,
   "metadata": {
    "collapsed": true,
    "deletable": true,
    "editable": true
   },
   "outputs": [],
   "source": [
    "def modify_doc(doc):\n",
    "    # Dataset\n",
    "    x = np.arange(0,10,0.1)\n",
    "    y = np.sin(x)\n",
    "\n",
    "    # Create ColumnDataSource: source\n",
    "    source = ColumnDataSource(data={'x': x, 'y': y})\n",
    "\n",
    "    # Create a figure\n",
    "    p = figure(x_axis_label='x values', y_axis_label='Sin(x)')\n",
    "\n",
    "    # Add a line to the plot\n",
    "    p.line('x', 'y', source=source)\n",
    "\n",
    "    # Create first slider: slider1\n",
    "    slider = Slider(title='slider1', start=0, end=10, step=0.1, value=2)\n",
    "\n",
    "    def callback(attr, old, new):\n",
    "        # Read the current value of the slider: scale\n",
    "        scale = slider.value\n",
    "\n",
    "        # Compute the updated y using np.cos(scale/x): new_y\n",
    "        new_y = np.sin(scale/x)\n",
    "    \n",
    "        # Update source with the new data values\n",
    "        source.data = {'x': x, 'y': new_y} \n",
    "    \n",
    "    slider.on_change('value', callback)\n",
    "    \n",
    "    # Create layout and add to current document\n",
    "    layout = column(widgetbox(slider), p)\n",
    "\n",
    "    doc.add_root(layout)"
   ]
  },
  {
   "cell_type": "markdown",
   "metadata": {
    "deletable": true,
    "editable": true
   },
   "source": [
    "We take the function above and configure a FunctionHandler with it. Then we create an Application that uses handler. (It is possible, but uncommon, for Bokeh applications to have more than one handler.) The end result is that the Bokeh server will call modify_doc to build new documents for every new sessions that is opened."
   ]
  },
  {
   "cell_type": "code",
   "execution_count": null,
   "metadata": {
    "collapsed": true,
    "deletable": true,
    "editable": true
   },
   "outputs": [],
   "source": [
    "from bokeh.application.handlers import FunctionHandler\n",
    "from bokeh.application import Application\n",
    "\n",
    "handler = FunctionHandler(modify_doc)\n",
    "app = Application(handler)"
   ]
  },
  {
   "cell_type": "markdown",
   "metadata": {
    "deletable": true,
    "editable": true
   },
   "source": [
    "The Bokeh server runs on a Tornado IOLoop. When we run bokeh serve at the command line, an IOLoop is created and started automatically. In this case we are going to piggy-back off an existing IOLoop, the one that the Jupyter Notebook has."
   ]
  },
  {
   "cell_type": "code",
   "execution_count": null,
   "metadata": {
    "collapsed": true,
    "deletable": true,
    "editable": true
   },
   "outputs": [],
   "source": [
    "from tornado.ioloop import IOLoop\n",
    "loop = IOLoop.current()"
   ]
  },
  {
   "cell_type": "markdown",
   "metadata": {
    "deletable": true,
    "editable": true
   },
   "source": [
    "Below is a convenience function for showing the resulting app inline in a Jupyter notebook. In the future, there will be an API built into Bokeh that does this.\n",
    "\n",
    "\n",
    "**WARNING** The function below leaks resources. It creates a new Server (with app and handler) every time it is executed, so re-executing some (or all) cells will leave stray Bokeh servers attached to the notebook IOLoop. For apps without periodioc callbacks this is probably often \"OK\", because the leftover server objects are effectively completely dormant when no events come in to them. But if an app has periodic callbacks, they will continue to run indefinitely, which is probably undesirable. In this case, until there is proper Bokeh API to handle cleanup, it is recommended to run the code below explicitly, and \"keep track\" of any servers you create. Their sessions can be shut off by executing:\n",
    "\n",
    "```Python\n",
    "server.get_sessions()[0].destroy()\n",
    "```\n"
   ]
  },
  {
   "cell_type": "code",
   "execution_count": null,
   "metadata": {
    "collapsed": true,
    "deletable": true,
    "editable": true
   },
   "outputs": [],
   "source": [
    "def show_app(app, notebook_url=\"127.0.0.1:8888\"):\n",
    "    from IPython.display import HTML, display\n",
    "    from bokeh.embed import autoload_server\n",
    "    from bokeh.server.server import Server\n",
    "    \n",
    "    server = Server({'/': app}, io_loop=loop, port=0, host='*', allow_websocket_origin=[notebook_url])\n",
    "    server.start()\n",
    "    \n",
    "    script = autoload_server(model=None, url='http://127.0.0.1:%d' % server.port)\n",
    "    \n",
    "    display(HTML(script))"
   ]
  },
  {
   "cell_type": "code",
   "execution_count": null,
   "metadata": {
    "collapsed": false,
    "deletable": true,
    "editable": true
   },
   "outputs": [],
   "source": [
    "\n",
    "show_app(app)"
   ]
  },
  {
   "cell_type": "markdown",
   "metadata": {
    "deletable": true,
    "editable": true
   },
   "source": [
    "## Updating data sources from dropdown callbacks\n",
    "\n",
    "You will now learn to update the plot's data using a **drop down** menu instead of a slider. This would allow users to do things like select between different data sources to view."
   ]
  },
  {
   "cell_type": "code",
   "execution_count": null,
   "metadata": {
    "collapsed": false,
    "deletable": true,
    "editable": true
   },
   "outputs": [],
   "source": [
    "# Perform necessary imports\n",
    "from bokeh.models import ColumnDataSource, Select\n",
    "\n",
    "# Import pandas\n",
    "import pandas as pd\n",
    "\n",
    "# Import row layout\n",
    "from bokeh.layouts import row\n",
    "\n",
    "data = pd.read_csv(\"fertility.csv\", encoding = 'latin2')"
   ]
  },
  {
   "cell_type": "code",
   "execution_count": null,
   "metadata": {
    "collapsed": true,
    "deletable": true,
    "editable": true
   },
   "outputs": [],
   "source": [
    "def modify_doc(doc):    \n",
    "    fertility = data[\"fertility\"]\n",
    "    female_literacy = data [\"female literacy\"]\n",
    "    population = data [\"population\"]\n",
    "\n",
    "    # Create ColumnDataSource: source\n",
    "    source = ColumnDataSource(data={\n",
    "        'x' : fertility,\n",
    "        'y' : female_literacy\n",
    "    })\n",
    "\n",
    "    # Create a new plot: plot\n",
    "    plot = figure()\n",
    "\n",
    "    # Add circles to the plot\n",
    "    plot.circle('x', 'y', source=source)\n",
    "\n",
    "    # Define a callback function: update_plot\n",
    "    def update_plot(attr, old, new):\n",
    "        # If the new Selection is 'female_literacy', update 'y' to female_literacy\n",
    "        if new == 'female_literacy': \n",
    "            source.data = {\n",
    "                'x' : fertility,\n",
    "                'y' : female_literacy\n",
    "            }\n",
    "        # Else, update 'y' to population\n",
    "        else:\n",
    "            source.data = {\n",
    "                'x' : fertility,\n",
    "                'y' : population\n",
    "            }\n",
    "\n",
    "    # Create a dropdown Select widget: select    \n",
    "    select = Select(title=\"distribution\", options=['female_literacy', 'population'], value='female_literacy')\n",
    "\n",
    "    # Attach the update_plot callback to the 'value' property of select\n",
    "    select.on_change('value', update_plot)\n",
    "\n",
    "    # Create layout and add to current document\n",
    "    layout = row(select, plot)\n",
    "    doc.add_root(layout)"
   ]
  },
  {
   "cell_type": "code",
   "execution_count": null,
   "metadata": {
    "collapsed": false,
    "deletable": true,
    "editable": true
   },
   "outputs": [],
   "source": [
    "from bokeh.application.handlers import FunctionHandler\n",
    "from bokeh.application import Application\n",
    "\n",
    "handler = FunctionHandler(modify_doc)\n",
    "app = Application(handler)\n",
    "\n",
    "from tornado.ioloop import IOLoop\n",
    "loop = IOLoop.current()"
   ]
  },
  {
   "cell_type": "code",
   "execution_count": null,
   "metadata": {
    "collapsed": true,
    "deletable": true,
    "editable": true
   },
   "outputs": [],
   "source": [
    "def show_app(app, notebook_url=\"127.0.0.1:8888\"):\n",
    "    from IPython.display import HTML, display\n",
    "    from bokeh.embed import autoload_server\n",
    "    from bokeh.server.server import Server\n",
    "    \n",
    "    server = Server({'/': app}, io_loop=loop, port=0, host='*', allow_websocket_origin=[notebook_url])\n",
    "    server.start()\n",
    "    \n",
    "    script = autoload_server(model=None, url='http://127.0.0.1:%d' % server.port)\n",
    "    \n",
    "    display(HTML(script))"
   ]
  },
  {
   "cell_type": "code",
   "execution_count": null,
   "metadata": {
    "collapsed": false,
    "deletable": true,
    "editable": true
   },
   "outputs": [],
   "source": [
    "show_app(app)"
   ]
  },
  {
   "cell_type": "markdown",
   "metadata": {
    "deletable": true,
    "editable": true
   },
   "source": [
    "## Synchronize two dropdowns\n",
    "\n",
    "You will now learn how to use a dropdown callback to update another dropdown's options. This will allow you to customize your applications even further and is a powerful addition to your toolbox.\n",
    "\n",
    "Your job in this exercise is to create two dropdown select widgets and then define a callback such that one dropdown is used to update the other dropdown."
   ]
  },
  {
   "cell_type": "code",
   "execution_count": null,
   "metadata": {
    "collapsed": true,
    "deletable": true,
    "editable": true
   },
   "outputs": [],
   "source": [
    "# Import the widgets\n",
    "from bokeh.layouts import widgetbox\n",
    "\n",
    "# Perform necessary imports\n",
    "from bokeh.models import  Select"
   ]
  },
  {
   "cell_type": "code",
   "execution_count": null,
   "metadata": {
    "collapsed": false,
    "deletable": true,
    "editable": true
   },
   "outputs": [],
   "source": [
    "def modify_doc(doc):    \n",
    "   \n",
    "    # Create two dropdown Select widgets: select1, select2\n",
    "    select1 = Select(title='First', options=['A', 'B'], value='A')\n",
    "    select2 = Select(title='Second', options=['1', '2', '3'], value='1')\n",
    "\n",
    "    # Define a callback function: callback\n",
    "    def callback(attr, old, new):\n",
    "        # If select1 is 'A' \n",
    "        if select1.value == 'A':\n",
    "            # Set select2 options to ['1', '2', '3']\n",
    "            select2.options = ['1', '2', '3']\n",
    "\n",
    "            # Set select2 value to '1'\n",
    "            select2.value = '1'\n",
    "        else:\n",
    "            # Set select2 options to ['100', '200', '300']\n",
    "            select2.options = ['100', '200', '300']\n",
    "\n",
    "            # Set select2 value to '100'\n",
    "            select2.value = '100'\n",
    "\n",
    "    # Attach the callback to the 'value' property of select1\n",
    "    select1.on_change('value', callback)\n",
    "\n",
    "    # Create layout and add to current document\n",
    "    layout = widgetbox(select1, select2)\n",
    "    \n",
    "    doc.add_root(layout)"
   ]
  },
  {
   "cell_type": "code",
   "execution_count": null,
   "metadata": {
    "collapsed": true,
    "deletable": true,
    "editable": true
   },
   "outputs": [],
   "source": [
    "from bokeh.application.handlers import FunctionHandler\n",
    "from bokeh.application import Application\n",
    "\n",
    "handler = FunctionHandler(modify_doc)\n",
    "app = Application(handler)\n",
    "\n",
    "from tornado.ioloop import IOLoop\n",
    "loop = IOLoop.current()"
   ]
  },
  {
   "cell_type": "code",
   "execution_count": null,
   "metadata": {
    "collapsed": true,
    "deletable": true,
    "editable": true
   },
   "outputs": [],
   "source": [
    "def show_app(app, notebook_url=\"127.0.0.1:8888\"):\n",
    "    from IPython.display import HTML, display\n",
    "    from bokeh.embed import autoload_server\n",
    "    from bokeh.server.server import Server\n",
    "    \n",
    "    server = Server({'/': app}, io_loop=loop, port=0, host='*', allow_websocket_origin=[notebook_url])\n",
    "    server.start()\n",
    "    \n",
    "    script = autoload_server(model=None, url='http://127.0.0.1:%d' % server.port)\n",
    "    \n",
    "    display(HTML(script))"
   ]
  },
  {
   "cell_type": "code",
   "execution_count": null,
   "metadata": {
    "collapsed": false,
    "deletable": true,
    "editable": true
   },
   "outputs": [],
   "source": [
    "show_app(app)"
   ]
  },
  {
   "cell_type": "markdown",
   "metadata": {
    "collapsed": true,
    "deletable": true,
    "editable": true
   },
   "source": [
    "## Button widgets\n",
    "\n",
    "You will now gain practice with adding buttons to your interactive visualizations. Your job in this exercise is to create a button and use its on_click() method to update a plot."
   ]
  },
  {
   "cell_type": "code",
   "execution_count": null,
   "metadata": {
    "collapsed": false,
    "deletable": true,
    "editable": true
   },
   "outputs": [],
   "source": [
    "# Import the widgets\n",
    "from bokeh.layouts import widgetbox, column\n",
    "\n",
    "# Import the ColumnDataSource, figure class from bokeh.plotting\n",
    "from bokeh.plotting import ColumnDataSource, figure\n",
    "\n",
    "# Perform necessary imports\n",
    "from bokeh.models import  Button\n",
    "\n",
    "import numpy as np"
   ]
  },
  {
   "cell_type": "code",
   "execution_count": null,
   "metadata": {
    "collapsed": false,
    "deletable": true,
    "editable": true
   },
   "outputs": [],
   "source": [
    "def modify_doc(doc):   \n",
    "    # Dataset\n",
    "    x = np.arange(0,10,0.1)\n",
    "    y = np.arange(0,10,0.1)\n",
    "    \n",
    "    # Create ColumnDataSource: source\n",
    "    source = ColumnDataSource(data={'x': x, 'y': y})\n",
    "    \n",
    "    # Create a new plot: plot\n",
    "    plot = figure()\n",
    "\n",
    "    # Add circles to the plot\n",
    "    plot.circle('x', 'y', source=source)\n",
    "    \n",
    "    # Create a Button with label 'Update Data'\n",
    "    button = Button(label='Update Data')\n",
    "\n",
    "    # Define an update callback with no arguments: update\n",
    "    def update():\n",
    "\n",
    "        N = 200\n",
    "        # Compute new y values: y\n",
    "        y = np.sin(x) + np.random.random(len(x))\n",
    "\n",
    "        # Update the ColumnDataSource data dictionary\n",
    "        source.data = {'x': x, 'y': y}\n",
    "\n",
    "    # Add the update callback to the button\n",
    "    button.on_click(update)\n",
    "\n",
    "    # Create layout and add to current document\n",
    "    layout = column(widgetbox(button), plot)\n",
    "    \n",
    "    doc.add_root(layout)"
   ]
  },
  {
   "cell_type": "code",
   "execution_count": null,
   "metadata": {
    "collapsed": true,
    "deletable": true,
    "editable": true
   },
   "outputs": [],
   "source": [
    "from bokeh.application.handlers import FunctionHandler\n",
    "from bokeh.application import Application\n",
    "\n",
    "handler = FunctionHandler(modify_doc)\n",
    "app = Application(handler)\n",
    "\n",
    "from tornado.ioloop import IOLoop\n",
    "loop = IOLoop.current()"
   ]
  },
  {
   "cell_type": "code",
   "execution_count": null,
   "metadata": {
    "collapsed": true,
    "deletable": true,
    "editable": true
   },
   "outputs": [],
   "source": [
    "def show_app(app, notebook_url=\"127.0.0.1:8888\"):\n",
    "    from IPython.display import HTML, display\n",
    "    from bokeh.embed import autoload_server\n",
    "    from bokeh.server.server import Server\n",
    "    \n",
    "    server = Server({'/': app}, io_loop=loop, port=0, host='*', allow_websocket_origin=[notebook_url])\n",
    "    server.start()\n",
    "    \n",
    "    script = autoload_server(model=None, url='http://127.0.0.1:%d' % server.port)\n",
    "    \n",
    "    display(HTML(script))"
   ]
  },
  {
   "cell_type": "code",
   "execution_count": null,
   "metadata": {
    "collapsed": false,
    "deletable": true,
    "editable": true
   },
   "outputs": [],
   "source": [
    "show_app(app)"
   ]
  },
  {
   "cell_type": "markdown",
   "metadata": {
    "deletable": true,
    "editable": true
   },
   "source": [
    "## Button styles\n",
    "\n",
    "You can also get really creative with your Button widgets.\n",
    "\n",
    "In this exercise, you will practice using CheckboxGroup, RadioGroup, and Toggle to add multiple Button widgets with different styles."
   ]
  },
  {
   "cell_type": "code",
   "execution_count": null,
   "metadata": {
    "collapsed": false,
    "deletable": true,
    "editable": true
   },
   "outputs": [],
   "source": [
    "# Import CheckboxGroup, RadioGroup, Toggle from bokeh.models\n",
    "from bokeh.models import CheckboxGroup, RadioGroup, Toggle\n",
    "\n",
    "# Perform the necessary imports\n",
    "from bokeh.io import output_notebook, show\n",
    "\n",
    "# Add a Toggle: toggle\n",
    "toggle = Toggle(button_type='success', label = 'Toggle button')\n",
    "\n",
    "# Add a CheckboxGroup: checkbox\n",
    "checkbox = CheckboxGroup(labels=['Option 1', 'Option 2', 'Option 3'])\n",
    "\n",
    "# Add a RadioGroup: radio\n",
    "radio = RadioGroup(labels=['Option 1', 'Option 2', 'Option 3'])\n",
    "\n",
    "# Add toggle, checkbox and radio to a widgetbox\n",
    "layout = widgetbox(toggle, checkbox, radio)\n",
    "\n",
    "# Call the output_notebook() \n",
    "output_notebook()\n",
    "show(layout)\n",
    "\n"
   ]
  },
  {
   "cell_type": "code",
   "execution_count": null,
   "metadata": {
    "collapsed": true,
    "deletable": true,
    "editable": true
   },
   "outputs": [],
   "source": []
  }
 ],
 "metadata": {
  "kernelspec": {
   "display_name": "Python 3",
   "language": "python",
   "name": "python3"
  },
  "language_info": {
   "codemirror_mode": {
    "name": "ipython",
    "version": 3
   },
   "file_extension": ".py",
   "mimetype": "text/x-python",
   "name": "python",
   "nbconvert_exporter": "python",
   "pygments_lexer": "ipython3",
   "version": "3.6.0"
  }
 },
 "nbformat": 4,
 "nbformat_minor": 2
}
