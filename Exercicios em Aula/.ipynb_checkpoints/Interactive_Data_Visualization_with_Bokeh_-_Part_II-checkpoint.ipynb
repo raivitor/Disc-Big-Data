{
 "cells": [
  {
   "cell_type": "markdown",
   "metadata": {
    "deletable": true,
    "editable": true
   },
   "source": [
    "# Layouts, Interactions, and Annotations \n",
    "\n",
    "Learn how to combine mutiple Bokeh plots into different kinds of layouts on a page, how to easily link different plots together in various ways, and how to add annotations such as legends and hover tooltips.\n",
    "\n",
    "### Creating rows of plots\n",
    "\n",
    "- Layouts are collections of Bokeh figure objects.\n",
    "\n",
    "- In this exercise, you're going to create two plots from the Literacy and Birth Rate data set to plot fertility vs female literacy and population vs female literacy.\n",
    "\n",
    "- By using the **row()** method, you'll create a single layout of the two figures.\n",
    "\n",
    "#### Instructions\n",
    "\n",
    "- Import **row** from the bokeh.layouts module.\n",
    "- Create a new figure **p1** using the **figure()** function and specifying the two parameters **x_axis_label** and **y_axis_label**.\n",
    "- Add a circle glyph to **p1**. The x-axis data is **fertility** and y-axis data is **female literacy**. Be sure to also specify **source=source**.\n",
    "- Create a new figure **p2** using the **figure()** function and specifying the two parameters **x_axis_label** and **y_axis_label**.\n",
    "- Add a circle glyph to **p2** and specify the **x_axis_label** and **y_axis_label** parameters.\n",
    "- Put **p1** and **p2** into a horizontal layout using **row()**."
   ]
  },
  {
   "cell_type": "code",
   "execution_count": 1,
   "metadata": {
    "collapsed": true,
    "deletable": true,
    "editable": true
   },
   "outputs": [],
   "source": [
    "# Import figure from bokeh.plotting\n",
    "from bokeh.plotting import figure\n",
    "\n",
    "# Import output_notebook and show from bokeh.io\n",
    "from bokeh.io import output_notebook, show\n",
    "\n",
    "# Import row from bokeh.layouts\n",
    "from bokeh.layouts import row\n",
    "\n",
    "# Import pandas as pd\n",
    "import pandas as pd\n",
    "\n",
    "# Import the ColumnDataSource class from bokeh.plotting\n",
    "from bokeh.plotting import ColumnDataSource"
   ]
  },
  {
   "cell_type": "code",
   "execution_count": null,
   "metadata": {
    "collapsed": false,
    "deletable": true,
    "editable": true,
    "scrolled": true
   },
   "outputs": [],
   "source": [
    "# Import the fertility.csv data: data\n",
    "data = pd.read_csv(\"fertility.csv\", encoding = 'latin2')\n",
    "\n",
    "# Create a ColumnDataSource from df: source\n",
    "source = ColumnDataSource(data)\n",
    "\n",
    "# Create the first figure: p1\n",
    "p1 = figure(x_axis_label='fertility (children per woman)', y_axis_label='female_literacy (% population)')\n",
    "\n",
    "# Add a circle glyph to p1\n",
    "p1.circle(_____, ______, ______)\n",
    "\n",
    "# Create the second figure: p2\n",
    "p2 = _____(______='population', ______='female_literacy (% population)')\n",
    "\n",
    "# Add a circle glyph to p2\n",
    "\n",
    "\n",
    "# Put p1 and p2 into a horizontal row: layout\n",
    "layout = row(___,___,sizing_mode='scale_width')\n",
    "\n",
    "# Print inline the figure\n",
    "output_notebook()\n",
    "show(layout)"
   ]
  },
  {
   "cell_type": "code",
   "execution_count": null,
   "metadata": {
    "collapsed": true,
    "deletable": true,
    "editable": true
   },
   "outputs": [],
   "source": [
    "# In this exercise, you're going to use the column() method \n",
    "# to create a single column layout of the two plots we created in the previous exercise.\n",
    "\n",
    "# Import column from bokeh.layouts\n",
    "from bokeh.layouts import column"
   ]
  },
  {
   "cell_type": "markdown",
   "metadata": {
    "deletable": true,
    "editable": true
   },
   "source": [
    "## Creating gridded layouts\n",
    "\n",
    "Regular grids of Bokeh plots can be generated with gridplot.\n",
    "\n",
    "In this example, you're going to display four plots of fertility vs female literacy for four regions: Latin America (P1), Africa (P2), Asia (P3) and Europe (P4)."
   ]
  },
  {
   "cell_type": "code",
   "execution_count": null,
   "metadata": {
    "collapsed": true,
    "deletable": true,
    "editable": true
   },
   "outputs": [],
   "source": [
    "# Import figure from bokeh.plotting\n",
    "from bokeh.plotting import figure\n",
    "\n",
    "# Import output_notebook and show from bokeh.io\n",
    "from bokeh.io import output_notebook, show\n",
    "\n",
    "# Import pandas as pd\n",
    "import pandas as pd\n",
    "\n",
    "# Import gridplot from bokeh.layouts\n",
    "from bokeh.layouts import gridplot"
   ]
  },
  {
   "cell_type": "code",
   "execution_count": null,
   "metadata": {
    "collapsed": true,
    "deletable": true,
    "editable": true
   },
   "outputs": [],
   "source": [
    "# Import the fertility.csv data: data\n",
    "data = pd.read_csv(\"fertility.csv\", encoding = 'latin2')\n",
    "\n",
    "fertility_latinamerica = data[data[\"Continent\"] == \"LAT\"][\"fertility\"]\n",
    "female_literacy_latinamerica = data[data[\"Continent\"] == \"LAT\"][\"female literacy\"]\n",
    "\n",
    "fertility_africa = data[data[\"Continent\"] == \"AF\"][\"fertility\"]\n",
    "female_literacy_africa = data[data[\"Continent\"] == \"AF\"][\"female literacy\"]\n",
    "\n",
    "fertility_europe = data[data[\"Continent\"] == \"ASI\"][\"fertility\"]\n",
    "female_literacy_europe = data[data[\"Continent\"] == \"ASI\"][\"female literacy\"]\n",
    "\n",
    "fertility_asia = data[data[\"Continent\"] == \"EUR\"][\"fertility\"]\n",
    "female_literacy_asia = data[data[\"Continent\"] == \"EUR\"][\"female literacy\"]"
   ]
  },
  {
   "cell_type": "code",
   "execution_count": null,
   "metadata": {
    "collapsed": false,
    "deletable": true,
    "editable": true
   },
   "outputs": [],
   "source": [
    "# Create the figures: p1, p2, p3, p4\n",
    "p1 = figure(title='Latin America', x_axis_label='fertility', y_axis_label='female_literacy (% population)')\n",
    "p2 = figure(title='Africa', x_axis_label='fertility', y_axis_label='female_literacy (% population)')\n",
    "p3 = figure(title='Europe', x_axis_label='fertility', y_axis_label='female_literacy (% population)')\n",
    "p4 = figure(title='Asia', x_axis_label='fertility', y_axis_label='female_literacy (% population)')\n",
    "\n",
    "# Add a circle glyph to the figures p1,p2,p3,p4\n",
    "p1.circle(fertility_latinamerica,female_literacy_latinamerica)\n",
    "p2.circle(fertility_africa,female_literacy_africa)\n",
    "p3.circle(fertility_europe,female_literacy_europe)\n",
    "p4.circle(fertility_asia,female_literacy_asia)\n",
    "\n",
    "# Create a list containing plots p1 and p2: row1\n",
    "row1 = [p1,p2]\n",
    "\n",
    "# Create a list containing plots p3 and p4: row2\n",
    "row2 = [p3,p4]\n",
    "\n",
    "# Create a gridplot using row1 and row2: layout\n",
    "layout = gridplot([row1,row2],sizing_mode='scale_width')\n",
    "\n",
    "# Call the output_notebook() \n",
    "output_notebook()\n",
    "\n",
    "# Display the plot\n",
    "show(layout)"
   ]
  },
  {
   "cell_type": "markdown",
   "metadata": {
    "deletable": true,
    "editable": true
   },
   "source": [
    "## Starting tabbed layouts\n",
    "\n",
    "Tabbed layouts can be created in Pandas by placing plots or layouts in Panels.\n",
    "\n",
    "In this exercise, you'll take the four fertility vs female literacy plots from the last exercise and make a **Panel()** for each.\n",
    "\n",
    "## Displaying tabbed layouts\n",
    "\n",
    "Tabbed layouts are collections of Panel objects. Using the figures and Panels from the previous exercises, you'll create a tabbed layout to change the region in the fertility vs female literacy plots.\n",
    "\n",
    "Your job is to create the layout using **Tabs()** and assign the tabs keyword argument to your list of Panels. The Panels have been created for you as tab1, tab2, tab3 and tab4."
   ]
  },
  {
   "cell_type": "code",
   "execution_count": null,
   "metadata": {
    "collapsed": false,
    "deletable": true,
    "editable": true
   },
   "outputs": [],
   "source": [
    "# Import Panel from bokeh.models.widgets\n",
    "from bokeh.models.widgets import Panel\n",
    "\n",
    "# Create the figures: p1, p2, p3, p4\n",
    "p1 = figure(title='Latin America', x_axis_label='fertility', y_axis_label='female_literacy (% population)')\n",
    "p2 = figure(title='Africa', x_axis_label='fertility', y_axis_label='female_literacy (% population)')\n",
    "p3 = figure(title='Europe', x_axis_label='fertility', y_axis_label='female_literacy (% population)')\n",
    "p4 = figure(title='Asia', x_axis_label='fertility', y_axis_label='female_literacy (% population)')\n",
    "\n",
    "# Add a circle glyph to the figures p1,p2,p3,p4\n",
    "p1.circle(fertility_latinamerica,female_literacy_latinamerica)\n",
    "p2.circle(fertility_africa,female_literacy_africa)\n",
    "p3.circle(fertility_europe,female_literacy_europe)\n",
    "p4.circle(fertility_asia,female_literacy_asia)\n",
    "\n",
    "\n",
    "# Create tab1 from plot p1: tab1\n",
    "tab1 = Panel(child=p1, title='Latin America')\n",
    "\n",
    "# Create tab2 from plot p2: tab2\n",
    "tab2 = Panel(child=p2, title='Africa')\n",
    "\n",
    "# Create tab3 from plot p3: tab3\n",
    "tab3 = Panel(child=p3, title='Asia')\n",
    "\n",
    "# Create tab4 from plot p4: tab4\n",
    "tab4 = Panel(child=p4, title='Europe')\n"
   ]
  },
  {
   "cell_type": "code",
   "execution_count": null,
   "metadata": {
    "collapsed": false,
    "deletable": true,
    "editable": true,
    "scrolled": true
   },
   "outputs": [],
   "source": [
    "# Import Tabs from bokeh.models.widgets\n",
    "from bokeh.models.widgets import Tabs\n",
    "\n",
    "# Create a Tabs layout: layout\n",
    "layout = Tabs(tabs=[tab1,tab2,tab3,tab4])\n",
    "\n",
    "# Call the output_notebook() \n",
    "output_notebook()\n",
    "show(layout)"
   ]
  },
  {
   "cell_type": "markdown",
   "metadata": {
    "deletable": true,
    "editable": true
   },
   "source": [
    "## Linked axes\n",
    "\n",
    "Linking axes between plots is achieved by sharing range objects.\n",
    "\n",
    "In this exercise, you'll link four plots of female literacy vs fertility so that when one plot is zoomed or dragged, one or more of the other plots will respond."
   ]
  },
  {
   "cell_type": "code",
   "execution_count": null,
   "metadata": {
    "collapsed": false,
    "deletable": true,
    "editable": true
   },
   "outputs": [],
   "source": [
    "# Create the figures: p1, p2, p3, p4\n",
    "p1 = figure(title='Latin America', x_axis_label='fertility', y_axis_label='female_literacy (% population)')\n",
    "p2 = figure(title='Africa', x_axis_label='fertility', y_axis_label='female_literacy (% population)')\n",
    "p3 = figure(title='Europe', x_axis_label='fertility', y_axis_label='female_literacy (% population)')\n",
    "p4 = figure(title='Asia', x_axis_label='fertility', y_axis_label='female_literacy (% population)')\n",
    "\n",
    "# Add a circle glyph to the figures p1,p2,p3,p4\n",
    "p1.circle(fertility_latinamerica,female_literacy_latinamerica)\n",
    "p2.circle(fertility_africa,female_literacy_africa)\n",
    "p3.circle(fertility_europe,female_literacy_europe)\n",
    "p4.circle(fertility_asia,female_literacy_asia)\n",
    "\n",
    "# Create a list containing plots p1 and p2: row1\n",
    "row1 = [p1,p2]\n",
    "\n",
    "# Create a list containing plots p3 and p4: row2\n",
    "row2 = [p3,p4]\n",
    "\n",
    "# Create a gridplot using row1 and row2: layout\n",
    "layout = gridplot([row1,row2],sizing_mode='scale_width')\n",
    "\n",
    "# Link the x_range of p2 to p1: p2.x_range\n",
    "p2.x_range = p1.x_range\n",
    "\n",
    "# Link the y_range of p2 to p1: p2.y_range\n",
    "p2.y_range = p1.y_range\n",
    "\n",
    "# Link the x_range of p3 to p1: p3.x_range\n",
    "p3.x_range = p1.x_range\n",
    "\n",
    "# Link the y_range of p4 to p1: p4.y_range\n",
    "p4.y_range = p1.y_range\n",
    "\n",
    "# Call the output_notebook() \n",
    "output_notebook()\n",
    "show(layout)"
   ]
  },
  {
   "cell_type": "markdown",
   "metadata": {
    "deletable": true,
    "editable": true
   },
   "source": [
    "## Linked brushing\n",
    "\n",
    "By sharing the same **ColumnDataSource** object between multiple plots, selection tools like BoxSelect and LassoSelect will highlight points in both plots that share a row in the ColumnDataSource.\n",
    "\n",
    "In this exercise, you'll plot female literacy vs fertility and population vs fertility in two plots using the same ColumnDataSource.\n",
    "\n",
    "After you have built the figure, experiment with the Lasso Select and Box Select tools. Use your mouse to drag a box or lasso around points in one figure, and notice how points in the other figure that share a row in the ColumnDataSource also get highlighted.\n",
    "\n",
    "Before experimenting with the Lasso Select, however, click the Bokeh plot pop-out icon to pop out the figure so that you can definitely see everything that you're doing."
   ]
  },
  {
   "cell_type": "code",
   "execution_count": null,
   "metadata": {
    "collapsed": false,
    "deletable": true,
    "editable": true
   },
   "outputs": [],
   "source": [
    "# Import the ColumnDataSource class from bokeh.plotting\n",
    "from bokeh.plotting import ColumnDataSource\n",
    "\n",
    "# Import column from bokeh.layouts\n",
    "from bokeh.layouts import row\n",
    "\n",
    "# Import the fertility.csv data: data\n",
    "data = pd.read_csv(\"fertility.csv\", encoding = 'latin2')\n",
    "\n",
    "# Create ColumnDataSource: source\n",
    "source = ColumnDataSource(data)\n",
    "\n",
    "# Create the first figure: p1\n",
    "p1 = figure(x_axis_label='fertility (children per woman)', y_axis_label='female literacy (% population)',\n",
    "            tools='box_select,lasso_select')\n",
    "\n",
    "# Add a circle glyph to p1\n",
    "p1.circle('fertility','female literacy',source=source)\n",
    "\n",
    "# Create the second figure: p2\n",
    "p2 = figure(x_axis_label='fertility (children per woman)', y_axis_label='population (millions)',\n",
    "            tools='box_select,lasso_select')\n",
    "\n",
    "# Add a circle glyph to p2\n",
    "p2.circle('fertility','population',source=source)\n",
    "\n",
    "# Create row layout of figures p1 and p2: layout\n",
    "layout = row(p1,p2,sizing_mode='scale_width')\n",
    "\n",
    "# Call the output_notebook() \n",
    "output_notebook()\n",
    "show(layout)"
   ]
  },
  {
   "cell_type": "markdown",
   "metadata": {
    "deletable": true,
    "editable": true
   },
   "source": [
    "## Positioning and styling legends\n",
    "\n",
    "Properties of the legend can be changed by using the legend member attribute of a Bokeh figure after the glyphs have been plotted.\n",
    "\n",
    "In this exercise, you'll adjust the background color and legend location of the female literacy vs fertility plot from the previous exercise."
   ]
  },
  {
   "cell_type": "code",
   "execution_count": null,
   "metadata": {
    "collapsed": true,
    "deletable": true,
    "editable": true
   },
   "outputs": [],
   "source": [
    "# Import figure from bokeh.plotting\n",
    "from bokeh.plotting import figure\n",
    "\n",
    "# Import output_notebook and show from bokeh.io\n",
    "from bokeh.io import output_notebook, show\n",
    "\n",
    "# Import pandas as pd\n",
    "import pandas as pd\n",
    "\n",
    "# Import the ColumnDataSource class from bokeh.plotting\n",
    "from bokeh.plotting import ColumnDataSource\n",
    "\n",
    "\n",
    "# Import the fertility.csv data: data\n",
    "data = pd.read_csv(\"fertility.csv\", encoding = 'latin2')\n",
    "\n",
    "# Create ColumnDataSource: source\n",
    "latin_america = ColumnDataSource(data[data[\"Continent\"] == \"LAT\"])\n",
    "africa = ColumnDataSource(data[data[\"Continent\"] == \"AF\"])"
   ]
  },
  {
   "cell_type": "code",
   "execution_count": null,
   "metadata": {
    "collapsed": false,
    "deletable": true,
    "editable": true
   },
   "outputs": [],
   "source": [
    "# Create the figure: p\n",
    "p = figure(x_axis_label='fertility (children per woman)', y_axis_label='female_literacy (% population)')\n",
    "\n",
    "# Add the first circle glyph to the figure p\n",
    "p.circle('fertility', 'female literacy', source=latin_america, size=10, color='red', legend=\"Latin America\")\n",
    "\n",
    "# Add the second circle glyph to the figure p\n",
    "p.circle('fertility', 'female literacy', source=africa, size=10, color='blue', legend=\"Africa\")\n",
    "\n",
    "# Assign the legend to the bottom left: p.legend.location\n",
    "p.legend.location = 'bottom_left'\n",
    "\n",
    "# Fill the legend background with the color 'lightgray': p.legend.background_fill_color\n",
    "p.legend.background_fill_color='lightgray'\n",
    "\n",
    "\n",
    "# Call the output_notebook() \n",
    "output_notebook()\n",
    "\n",
    "# Display the plot\n",
    "show(p)"
   ]
  },
  {
   "cell_type": "markdown",
   "metadata": {
    "deletable": true,
    "editable": true
   },
   "source": [
    "## Adding a hover tooltip\n",
    "\n",
    "Working with the **HoverTool** is easy for data stored in a **ColumnDataSource**.\n",
    "\n",
    "In this exercise, you will create a HoverTool object and display the country for each circle glyph in the figure that you created in the last exercise. This is done by assigning the tooltips keyword argument to a list-of-tuples specifying the label and the column of values from the **ColumnDataSource** using the **@** operator."
   ]
  },
  {
   "cell_type": "code",
   "execution_count": null,
   "metadata": {
    "collapsed": false,
    "deletable": true,
    "editable": true
   },
   "outputs": [],
   "source": [
    "# Import HoverTool from bokeh.models\n",
    "from bokeh.models import HoverTool\n",
    "\n",
    "# Create a HoverTool object: hover\n",
    "hover = HoverTool(tooltips=[('Country','@Country')])\n",
    "\n",
    "# Add the HoverTool object to figure p\n",
    "p.add_tools(hover)\n",
    "\n",
    "# Call the output_notebook() \n",
    "output_notebook()\n",
    "show(p)\n"
   ]
  },
  {
   "cell_type": "markdown",
   "metadata": {
    "deletable": true,
    "editable": true
   },
   "source": [
    "# Exercise\n",
    "\n",
    "- Use the previous knowledge to extract information from the European Environment Agency (EEA). \n",
    "- Adopt the monitoring co2 emissions [dataset](http://www.eea.europa.eu/data-and-maps/data/co2-cars-emission-11) (**Monitoring of CO2 emissions from passenger cars - Data 2015 - Final data**) "
   ]
  }
 ],
 "metadata": {
  "kernelspec": {
   "display_name": "Python 3",
   "language": "python",
   "name": "python3"
  },
  "language_info": {
   "codemirror_mode": {
    "name": "ipython",
    "version": 3
   },
   "file_extension": ".py",
   "mimetype": "text/x-python",
   "name": "python",
   "nbconvert_exporter": "python",
   "pygments_lexer": "ipython3",
   "version": "3.6.0"
  }
 },
 "nbformat": 4,
 "nbformat_minor": 2
}
