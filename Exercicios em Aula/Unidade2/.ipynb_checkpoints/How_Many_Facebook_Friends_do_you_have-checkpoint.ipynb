{
 "cells": [
  {
   "cell_type": "code",
   "execution_count": 1,
   "metadata": {},
   "outputs": [
    {
     "name": "stdout",
     "output_type": "stream",
     "text": [
      "Collecting facebook-sdk\n",
      "  Downloading facebook-sdk-2.0.0.tar.gz\n",
      "Requirement already satisfied: requests in /home/raivitor/anaconda3/lib/python3.6/site-packages (from facebook-sdk)\n",
      "Building wheels for collected packages: facebook-sdk\n",
      "  Running setup.py bdist_wheel for facebook-sdk ... \u001b[?25ldone\n",
      "\u001b[?25h  Stored in directory: /home/raivitor/.cache/pip/wheels/74/8d/c2/632884cecf25d1a584677403dc4b149563e6336d2cd8d2834c\n",
      "Successfully built facebook-sdk\n",
      "Installing collected packages: facebook-sdk\n",
      "Successfully installed facebook-sdk-2.0.0\n",
      "Collecting statistics\n",
      "  Downloading statistics-1.0.3.5.tar.gz\n",
      "Requirement already satisfied: docutils>=0.3 in /home/raivitor/anaconda3/lib/python3.6/site-packages (from statistics)\n",
      "Building wheels for collected packages: statistics\n",
      "  Running setup.py bdist_wheel for statistics ... \u001b[?25ldone\n",
      "\u001b[?25h  Stored in directory: /home/raivitor/.cache/pip/wheels/57/4b/23/14a5c991d6718a8ca1c708a414b7686b0cd33418f210512db3\n",
      "Successfully built statistics\n",
      "Installing collected packages: statistics\n",
      "Successfully installed statistics-1.0.3.5\n"
     ]
    }
   ],
   "source": [
    "### Library necessary to run this IPython Notebook\n",
    "!pip install facebook-sdk\n",
    "!pip install statistics\n",
    "\n",
    "### API >> https://facebook-sdk.readthedocs.io/en/latest/api.html\n",
    "### Get access token >> https://developers.facebook.com/tools/explorer\n"
   ]
  },
  {
   "cell_type": "markdown",
   "metadata": {},
   "source": [
    "## class facebook.GraphAPI\n",
    "A client for the Facebook Graph API. The Graph API is made up of the objects or nodes in Facebook (e.g., people, pages, events, photos) and the connections or edges between them (e.g., friends, photo tags, and event RSVPs). This client provides access to those primitive types in a generic way.\n",
    "\n",
    "You can read more about Facebook’s Graph API [here](https://developers.facebook.com/docs/graph-api)."
   ]
  },
  {
   "cell_type": "code",
   "execution_count": null,
   "metadata": {},
   "outputs": [],
   "source": [
    "import facebook\n",
    "graph = facebook.GraphAPI(access_token='token_generated_in_facebook_tools_explorer', version='2.2')"
   ]
  },
  {
   "cell_type": "code",
   "execution_count": null,
   "metadata": {},
   "outputs": [],
   "source": [
    "### Only friends who installed the Graph API Explorer (facebook >> apps >> Graph API Explorer) \n",
    "### are returned in API v2.0 and higher. \n",
    "\n",
    "### https://developers.facebook.com/docs/graph-api/reference/v2.2/user/friends\n",
    "### total_count in summary represents the total number of friends, including those who haven't installed the app\n",
    "\n",
    "friends = graph.get_object(\"me/friends\")\n",
    "#friends['summary']['total_count']\n",
    "friends"
   ]
  },
  {
   "cell_type": "code",
   "execution_count": null,
   "metadata": {},
   "outputs": [],
   "source": [
    "number_of_friends = []\n",
    "for friend in friends['data']:\n",
    "    print \"{0} has id {1}\".format(friend['name'].encode('utf-8'), friend['id'])\n",
    "    friends_of_friends = graph.get_object(str(friend['id'])+\"/friends\")\n",
    "    if len(friends_of_friends) == 3:\n",
    "        number_of_friends.append(friends_of_friends['summary']['total_count'])\n",
    "        \n",
    "number_of_friends\n"
   ]
  },
  {
   "cell_type": "code",
   "execution_count": null,
   "metadata": {},
   "outputs": [],
   "source": [
    "import statistics as stat\n",
    "\n",
    "print stat.mean(number_of_friends)\n",
    "print stat.median(number_of_friends)\n",
    "# Has it mode?\n",
    "# print stat.mode(number_of_friends)"
   ]
  },
  {
   "cell_type": "code",
   "execution_count": null,
   "metadata": {
    "collapsed": true
   },
   "outputs": [],
   "source": []
  }
 ],
 "metadata": {
  "anaconda-cloud": {},
  "kernelspec": {
   "display_name": "Python 3",
   "language": "python",
   "name": "python3"
  },
  "language_info": {
   "codemirror_mode": {
    "name": "ipython",
    "version": 3
   },
   "file_extension": ".py",
   "mimetype": "text/x-python",
   "name": "python",
   "nbconvert_exporter": "python",
   "pygments_lexer": "ipython3",
   "version": "3.6.0"
  }
 },
 "nbformat": 4,
 "nbformat_minor": 1
}
