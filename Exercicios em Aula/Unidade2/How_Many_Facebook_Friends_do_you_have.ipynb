{
 "cells": [
  {
   "cell_type": "code",
   "execution_count": 1,
   "metadata": {},
   "outputs": [
    {
     "name": "stdout",
     "output_type": "stream",
     "text": [
      "Collecting facebook-sdk\n",
      "  Downloading facebook-sdk-2.0.0.tar.gz\n",
      "Requirement already satisfied: requests in /home/raivitor/anaconda3/lib/python3.6/site-packages (from facebook-sdk)\n",
      "Building wheels for collected packages: facebook-sdk\n",
      "  Running setup.py bdist_wheel for facebook-sdk ... \u001b[?25ldone\n",
      "\u001b[?25h  Stored in directory: /home/raivitor/.cache/pip/wheels/74/8d/c2/632884cecf25d1a584677403dc4b149563e6336d2cd8d2834c\n",
      "Successfully built facebook-sdk\n",
      "Installing collected packages: facebook-sdk\n",
      "Successfully installed facebook-sdk-2.0.0\n",
      "Collecting statistics\n",
      "  Downloading statistics-1.0.3.5.tar.gz\n",
      "Requirement already satisfied: docutils>=0.3 in /home/raivitor/anaconda3/lib/python3.6/site-packages (from statistics)\n",
      "Building wheels for collected packages: statistics\n",
      "  Running setup.py bdist_wheel for statistics ... \u001b[?25ldone\n",
      "\u001b[?25h  Stored in directory: /home/raivitor/.cache/pip/wheels/57/4b/23/14a5c991d6718a8ca1c708a414b7686b0cd33418f210512db3\n",
      "Successfully built statistics\n",
      "Installing collected packages: statistics\n",
      "Successfully installed statistics-1.0.3.5\n"
     ]
    }
   ],
   "source": [
    "### Library necessary to run this IPython Notebook\n",
    "!pip install facebook-sdk\n",
    "!pip install statistics\n",
    "\n",
    "### API >> https://facebook-sdk.readthedocs.io/en/latest/api.html\n",
    "### Get access token >> https://developers.facebook.com/tools/explorer\n"
   ]
  },
  {
   "cell_type": "markdown",
   "metadata": {},
   "source": [
    "## class facebook.GraphAPI\n",
    "A client for the Facebook Graph API. The Graph API is made up of the objects or nodes in Facebook (e.g., people, pages, events, photos) and the connections or edges between them (e.g., friends, photo tags, and event RSVPs). This client provides access to those primitive types in a generic way.\n",
    "\n",
    "You can read more about Facebook’s Graph API [here](https://developers.facebook.com/docs/graph-api)."
   ]
  },
  {
   "cell_type": "code",
   "execution_count": 11,
   "metadata": {
    "collapsed": true
   },
   "outputs": [],
   "source": [
    "import facebook\n",
    "graph = facebook.GraphAPI(access_token='EAACEdEose0cBABBIzD0Fd9oZAtmA4yrBbffunZBDEXEZBvQWsK5Kmkng7UGdbWdt7c00ERKEHcLSoXd1EFxezSDDDzXTOR8cRTnDjezlYiIBpeRZBr6TAu67W0ZB78btapPQLTXO92HZCbzA1AOd46hBXsyC1GacfZAkofVlzI81eREXu3IxliYpu9mkvwHkHgZD', version='2.2')"
   ]
  },
  {
   "cell_type": "code",
   "execution_count": 12,
   "metadata": {},
   "outputs": [
    {
     "data": {
      "text/plain": [
       "{'data': [{'id': '10152425050410874',\n",
       "   'name': 'Aquiles Medeiros Filgueira Burlamaqui'},\n",
       "  {'id': '10153358808842139', 'name': 'Kaio Max'},\n",
       "  {'id': '1008427831', 'name': 'Kálil Maciel'},\n",
       "  {'id': '10203530867887851', 'name': 'Tiago Filipe'},\n",
       "  {'id': '10205273663910653', 'name': 'Sarah Castelo Branco'},\n",
       "  {'id': '10201570388814490', 'name': 'Moisés Abraão'},\n",
       "  {'id': '10202016009440875', 'name': 'Mateus Sátiro'},\n",
       "  {'id': '1838181531', 'name': 'Arthur Padilha'},\n",
       "  {'id': '868983753130884', 'name': 'Ivanovitch Silva'},\n",
       "  {'id': '100000600385527', 'name': 'Henri Cavalcante'},\n",
       "  {'id': '852327664797650', 'name': 'Lucas Lima'},\n",
       "  {'id': '988261461208792', 'name': 'Werton Rodrigues'},\n",
       "  {'id': '100000888984231', 'name': 'Luan Fonseca'},\n",
       "  {'id': '795633627143912', 'name': 'Jonhnatha Trigueiro'},\n",
       "  {'id': '809635275747651', 'name': 'Gustavo Freire'},\n",
       "  {'id': '676121872442928', 'name': 'Carlos Cavalcanti'},\n",
       "  {'id': '100001357222041', 'name': 'Lucas Cassiano'},\n",
       "  {'id': '100001477543571', 'name': 'Mayron Cachina'},\n",
       "  {'id': '900774926650582', 'name': 'Cinthia Katiane'},\n",
       "  {'id': '100001792916486', 'name': 'Rafael Uchôa'},\n",
       "  {'id': '100001812895948', 'name': 'Léon Walras'},\n",
       "  {'id': '677240555682413', 'name': 'Marcus Reis'},\n",
       "  {'id': '746734585401725', 'name': 'Mateus Alves'},\n",
       "  {'id': '641449889264776', 'name': 'Vinicius Dantas'},\n",
       "  {'id': '645217592223118', 'name': 'Rodrigo Castro'}],\n",
       " 'paging': {'cursors': {'after': 'QVFIUmE5OFR3c3J3djNINjlxY1J4WHRuWTNudDFmMTM2WGExSV9yakdZATU5kS0FZAeXR0c21hT3Q4YnNGcW42REtBNFVtbnBLc2ZA2RGY4enB1aloweHAzVVNn',\n",
       "   'before': 'QVFIUjNUSlI2MlpCV2puNzhmV2U3R3FtakUwNWo2SDQ2aVdDSEs4ZAEJHRHFBT1J2V1g2TEpoejBmU2tWbUxsaExCRloZD'},\n",
       "  'next': 'https://graph.facebook.com/v2.3/739425496128479/friends?access_token=EAACEdEose0cBABBIzD0Fd9oZAtmA4yrBbffunZBDEXEZBvQWsK5Kmkng7UGdbWdt7c00ERKEHcLSoXd1EFxezSDDDzXTOR8cRTnDjezlYiIBpeRZBr6TAu67W0ZB78btapPQLTXO92HZCbzA1AOd46hBXsyC1GacfZAkofVlzI81eREXu3IxliYpu9mkvwHkHgZD&limit=25&after=QVFIUmE5OFR3c3J3djNINjlxY1J4WHRuWTNudDFmMTM2WGExSV9yakdZATU5kS0FZAeXR0c21hT3Q4YnNGcW42REtBNFVtbnBLc2ZA2RGY4enB1aloweHAzVVNn'},\n",
       " 'summary': {'total_count': 753}}"
      ]
     },
     "execution_count": 12,
     "metadata": {},
     "output_type": "execute_result"
    }
   ],
   "source": [
    "### Only friends who installed the Graph API Explorer (facebook >> apps >> Graph API Explorer) \n",
    "### are returned in API v2.0 and higher. \n",
    "\n",
    "### https://developers.facebook.com/docs/graph-api/reference/v2.2/user/friends\n",
    "### total_count in summary represents the total number of friends, including those who haven't installed the app\n",
    "\n",
    "friends = graph.get_object(\"me/friends\")\n",
    "#friends['summary']['total_count']\n",
    "friends"
   ]
  },
  {
   "cell_type": "code",
   "execution_count": 15,
   "metadata": {},
   "outputs": [
    {
     "name": "stdout",
     "output_type": "stream",
     "text": [
      "b'Aquiles Medeiros Filgueira Burlamaqui' has id 10152425050410874\n"
     ]
    },
    {
     "ename": "GraphAPIError",
     "evalue": "Cannot specify an empty identifier",
     "output_type": "error",
     "traceback": [
      "\u001b[0;31m---------------------------------------------------------------------------\u001b[0m",
      "\u001b[0;31mGraphAPIError\u001b[0m                             Traceback (most recent call last)",
      "\u001b[0;32m<ipython-input-15-71c94ee9c6e7>\u001b[0m in \u001b[0;36m<module>\u001b[0;34m()\u001b[0m\n\u001b[1;32m      7\u001b[0m     \u001b[0mprint\u001b[0m \u001b[0;34m(\u001b[0m\u001b[0;34m\"{0} has id {1}\"\u001b[0m\u001b[0;34m.\u001b[0m\u001b[0mformat\u001b[0m\u001b[0;34m(\u001b[0m\u001b[0mfriend\u001b[0m\u001b[0;34m[\u001b[0m\u001b[0;34m'name'\u001b[0m\u001b[0;34m]\u001b[0m\u001b[0;34m.\u001b[0m\u001b[0mencode\u001b[0m\u001b[0;34m(\u001b[0m\u001b[0;34m'utf-8'\u001b[0m\u001b[0;34m)\u001b[0m\u001b[0;34m,\u001b[0m \u001b[0mfriend\u001b[0m\u001b[0;34m[\u001b[0m\u001b[0;34m'id'\u001b[0m\u001b[0;34m]\u001b[0m\u001b[0;34m)\u001b[0m\u001b[0;34m)\u001b[0m\u001b[0;34m\u001b[0m\u001b[0m\n\u001b[1;32m      8\u001b[0m     \u001b[0mfriends_of_friends\u001b[0m \u001b[0;34m=\u001b[0m \u001b[0mgraph\u001b[0m\u001b[0;34m.\u001b[0m\u001b[0mget_object\u001b[0m\u001b[0;34m(\u001b[0m\u001b[0mstr\u001b[0m\u001b[0;34m(\u001b[0m\u001b[0mfriend\u001b[0m\u001b[0;34m[\u001b[0m\u001b[0;34m'id'\u001b[0m\u001b[0;34m]\u001b[0m\u001b[0;34m)\u001b[0m\u001b[0;34m+\u001b[0m\u001b[0;34m\"/friends\"\u001b[0m\u001b[0;34m)\u001b[0m\u001b[0;34m\u001b[0m\u001b[0m\n\u001b[0;32m----> 9\u001b[0;31m     \u001b[0mlikes_of_friends\u001b[0m \u001b[0;34m=\u001b[0m \u001b[0mgraph\u001b[0m\u001b[0;34m.\u001b[0m\u001b[0mget_objects\u001b[0m\u001b[0;34m(\u001b[0m\u001b[0mids\u001b[0m\u001b[0;34m=\u001b[0m\u001b[0mfriend\u001b[0m\u001b[0;34m[\u001b[0m\u001b[0;34m'id'\u001b[0m\u001b[0;34m]\u001b[0m\u001b[0;34m,\u001b[0m \u001b[0mfields\u001b[0m\u001b[0;34m=\u001b[0m\u001b[0;34m'attending_count,declined_count'\u001b[0m\u001b[0;34m)\u001b[0m\u001b[0;34m\u001b[0m\u001b[0m\n\u001b[0m\u001b[1;32m     10\u001b[0m     \u001b[0;32mif\u001b[0m \u001b[0mlen\u001b[0m\u001b[0;34m(\u001b[0m\u001b[0mfriends_of_friends\u001b[0m\u001b[0;34m)\u001b[0m \u001b[0;34m==\u001b[0m \u001b[0;36m3\u001b[0m\u001b[0;34m:\u001b[0m\u001b[0;34m\u001b[0m\u001b[0m\n\u001b[1;32m     11\u001b[0m         \u001b[0mnumber_of_friends\u001b[0m\u001b[0;34m.\u001b[0m\u001b[0mappend\u001b[0m\u001b[0;34m(\u001b[0m\u001b[0mfriends_of_friends\u001b[0m\u001b[0;34m[\u001b[0m\u001b[0;34m'summary'\u001b[0m\u001b[0;34m]\u001b[0m\u001b[0;34m[\u001b[0m\u001b[0;34m'total_count'\u001b[0m\u001b[0;34m]\u001b[0m\u001b[0;34m)\u001b[0m\u001b[0;34m\u001b[0m\u001b[0m\n",
      "\u001b[0;32m/home/raivitor/anaconda3/lib/python3.6/site-packages/facebook/__init__.py\u001b[0m in \u001b[0;36mget_objects\u001b[0;34m(self, ids, **args)\u001b[0m\n\u001b[1;32m    112\u001b[0m         \"\"\"\n\u001b[1;32m    113\u001b[0m         \u001b[0margs\u001b[0m\u001b[0;34m[\u001b[0m\u001b[0;34m\"ids\"\u001b[0m\u001b[0;34m]\u001b[0m \u001b[0;34m=\u001b[0m \u001b[0;34m\",\"\u001b[0m\u001b[0;34m.\u001b[0m\u001b[0mjoin\u001b[0m\u001b[0;34m(\u001b[0m\u001b[0mids\u001b[0m\u001b[0;34m)\u001b[0m\u001b[0;34m\u001b[0m\u001b[0m\n\u001b[0;32m--> 114\u001b[0;31m         \u001b[0;32mreturn\u001b[0m \u001b[0mself\u001b[0m\u001b[0;34m.\u001b[0m\u001b[0mrequest\u001b[0m\u001b[0;34m(\u001b[0m\u001b[0mself\u001b[0m\u001b[0;34m.\u001b[0m\u001b[0mversion\u001b[0m \u001b[0;34m+\u001b[0m \u001b[0;34m\"/\"\u001b[0m\u001b[0;34m,\u001b[0m \u001b[0margs\u001b[0m\u001b[0;34m)\u001b[0m\u001b[0;34m\u001b[0m\u001b[0m\n\u001b[0m\u001b[1;32m    115\u001b[0m \u001b[0;34m\u001b[0m\u001b[0m\n\u001b[1;32m    116\u001b[0m     \u001b[0;32mdef\u001b[0m \u001b[0mget_connections\u001b[0m\u001b[0;34m(\u001b[0m\u001b[0mself\u001b[0m\u001b[0;34m,\u001b[0m \u001b[0mid\u001b[0m\u001b[0;34m,\u001b[0m \u001b[0mconnection_name\u001b[0m\u001b[0;34m,\u001b[0m \u001b[0;34m**\u001b[0m\u001b[0margs\u001b[0m\u001b[0;34m)\u001b[0m\u001b[0;34m:\u001b[0m\u001b[0;34m\u001b[0m\u001b[0m\n",
      "\u001b[0;32m/home/raivitor/anaconda3/lib/python3.6/site-packages/facebook/__init__.py\u001b[0m in \u001b[0;36mrequest\u001b[0;34m(self, path, args, post_args, files, method)\u001b[0m\n\u001b[1;32m    270\u001b[0m \u001b[0;34m\u001b[0m\u001b[0m\n\u001b[1;32m    271\u001b[0m         \u001b[0;32mif\u001b[0m \u001b[0mresult\u001b[0m \u001b[0;32mand\u001b[0m \u001b[0misinstance\u001b[0m\u001b[0;34m(\u001b[0m\u001b[0mresult\u001b[0m\u001b[0;34m,\u001b[0m \u001b[0mdict\u001b[0m\u001b[0;34m)\u001b[0m \u001b[0;32mand\u001b[0m \u001b[0mresult\u001b[0m\u001b[0;34m.\u001b[0m\u001b[0mget\u001b[0m\u001b[0;34m(\u001b[0m\u001b[0;34m\"error\"\u001b[0m\u001b[0;34m)\u001b[0m\u001b[0;34m:\u001b[0m\u001b[0;34m\u001b[0m\u001b[0m\n\u001b[0;32m--> 272\u001b[0;31m             \u001b[0;32mraise\u001b[0m \u001b[0mGraphAPIError\u001b[0m\u001b[0;34m(\u001b[0m\u001b[0mresult\u001b[0m\u001b[0;34m)\u001b[0m\u001b[0;34m\u001b[0m\u001b[0m\n\u001b[0m\u001b[1;32m    273\u001b[0m         \u001b[0;32mreturn\u001b[0m \u001b[0mresult\u001b[0m\u001b[0;34m\u001b[0m\u001b[0m\n\u001b[1;32m    274\u001b[0m \u001b[0;34m\u001b[0m\u001b[0m\n",
      "\u001b[0;31mGraphAPIError\u001b[0m: Cannot specify an empty identifier"
     ]
    }
   ],
   "source": [
    "number_of_friends = []\n",
    "\n",
    "for friend in friends['data']:\n",
    "    print (\"{0} has id {1}\".format(friend['name'].encode('utf-8'), friend['id']))\n",
    "    friends_of_friends = graph.get_object(str(friend['id'])+\"/friends\")\n",
    "    likes_of_friends = graph.get_objects(ids=friend['id'], fields='attending_count,declined_count')\n",
    "    if len(friends_of_friends) == 3:\n",
    "        number_of_friends.append(friends_of_friends['summary']['total_count'])\n",
    "        \n",
    "likes_of_friends\n"
   ]
  },
  {
   "cell_type": "code",
   "execution_count": 7,
   "metadata": {},
   "outputs": [
    {
     "name": "stdout",
     "output_type": "stream",
     "text": [
      "1198.6363636363637\n",
      "891.5\n"
     ]
    }
   ],
   "source": [
    "import statistics as stat\n",
    "\n",
    "print (stat.mean(number_of_friends))\n",
    "print (stat.median(number_of_friends))\n",
    "# Has it mode?\n",
    "# print stat.mode(number_of_friends)"
   ]
  },
  {
   "cell_type": "code",
   "execution_count": null,
   "metadata": {
    "collapsed": true
   },
   "outputs": [],
   "source": []
  }
 ],
 "metadata": {
  "anaconda-cloud": {},
  "kernelspec": {
   "display_name": "Python 3",
   "language": "python",
   "name": "python3"
  },
  "language_info": {
   "codemirror_mode": {
    "name": "ipython",
    "version": 3
   },
   "file_extension": ".py",
   "mimetype": "text/x-python",
   "name": "python",
   "nbconvert_exporter": "python",
   "pygments_lexer": "ipython3",
   "version": "3.6.1"
  }
 },
 "nbformat": 4,
 "nbformat_minor": 1
}
