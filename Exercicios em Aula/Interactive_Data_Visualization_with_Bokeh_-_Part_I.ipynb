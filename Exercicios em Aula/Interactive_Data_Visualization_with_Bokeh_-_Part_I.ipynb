{
 "cells": [
  {
   "cell_type": "markdown",
   "metadata": {},
   "source": [
    "# Interactive Data Visualization with Bokeh\n",
    "\n",
    "Bokeh is an interactive data visualization library for Python (and other languages!) that targets modern web browsers for presentation. It can create versatile, data-driven graphics, and connect the full power of the entire Python data-science stack to rich, interactive visualizations.\n",
    "\n",
    "http://bokeh.pydata.org/en/latest/\n",
    "\n",
    "\n",
    "### What are glyphs?\n",
    "\n",
    "In Bokeh, visual properties of shapes are called **glyphs**. The visual properties of these glyphs such as position or color can be assigned single values, for example x=10 or fill_color='red'.\n",
    "\n",
    "What other kinds of values can glyph properties be set to in normal usage?"
   ]
  },
  {
   "cell_type": "markdown",
   "metadata": {},
   "source": [
    "## A simple scatter plot\n",
    "\n",
    "In this example, you're going to make a scatter plot of **female literacy vs fertility** using data from the [European Environmental Agency](http://www.eea.europa.eu/data-and-maps/figures/correlation-between-fertility-and-female-education/trend01-5g-soer2010-xls/at_download/file). This dataset highlights that countries with low female literacy have high birthrates. The x-axis data has been loaded for you as **fertility** and the y-axis data has been loaded as **female_literacy**.\n",
    "\n",
    "Your job is to create a figure, assign x-axis and y-axis labels, and plot female_literacy vs fertility using the circle glyph.\n",
    "\n",
    "After you have created the figure, in this exercise and the ones to follow, play around with it! Explore the different options available to you on the tab to the right, such as \"Pan\", \"Box Zoom\", and \"Wheel Zoom\". You can click on the question mark sign for more details on any of these tools.\n",
    "\n",
    "Note: You may have to scroll down to view the lower portion of the figure.\n",
    "\n",
    "\n",
    "### Instructions\n",
    "\n",
    "- Import the **figure** function from bokeh.plotting, and the **output_notebook** and **show** functions from bokeh.io.\n",
    "- Create the figure **p** with **figure()**. It has two parameters: **x_axis_label** and **y_axis_label**. The former is data[\"fertility\"] and the latter is data[\"female literacy\"].\n",
    "- Add a circle glyph to the figure **p** using the function **p.circle()** where the inputs are, in order, the **x-axis** data and **y-axis** data.\n",
    "- Use the **output_notebook()** function to generate the figure in notebook.\n",
    "- Create and display the output file using **show()** and passing in the figure **p**.\n",
    "\n"
   ]
  },
  {
   "cell_type": "code",
   "execution_count": null,
   "metadata": {
    "collapsed": false
   },
   "outputs": [],
   "source": [
    "# Import figure from bokeh.plotting\n",
    "from bokeh.plotting import ____\n",
    "\n",
    "# Import output_notebook and show from bokeh.io\n",
    "from bokeh.io import ____, ____\n",
    "\n",
    "# Import pandas as pd\n",
    "import pandas as pd\n",
    "\n",
    "# Import the fertility.csv data: data\n",
    "data = pd.read_csv(\"fertility.csv\", encoding = 'latin2')\n",
    "\n",
    "# Create the figure: p\n",
    "p = ____(____='fertility (children per woman)', ____='female_literacy (% population)')\n",
    "\n",
    "# Add a circle glyph to the figure p\n",
    "p.circle(____, ____)\n",
    "\n",
    "# Call the output_notebook() \n",
    "\n",
    "# Display the plot\n"
   ]
  },
  {
   "cell_type": "markdown",
   "metadata": {},
   "source": [
    "## A scatter plot with different shapes\n",
    "\n",
    "By calling multiple glyph functions on the same figure object, we can overlay multiple data sets in the same figure.\n",
    "\n",
    "In this exercise, you will plot female literacy vs fertility for two different regions, Africa and Latin America. Each set of x and y data has been loaded separately for you as **fertility_africa**, **female_literacy_africa**, **fertility_latinamerica**, and **female_literacy_latinamerica**.\n",
    "\n",
    "Your job is to plot the Latin America data with the **circle()** glyph, and the Africa data with the **x()** glyph.\n",
    "\n",
    "### Instruction\n",
    "\n",
    "- Configure the variables according to Latin America and Africa continents\n",
    "- Create the figure *p* with the *figure()* function. It has two parameters: x_axis_label and y_axis_label.\n",
    "- Add a circle glyph to the figure p using the function **p.circle()** where the inputs are the x and y data from Latin America: fertility_latinamerica and female_literacy_latinamerica.\n",
    "- Add an x glyph to the figure p using the function **p.x()** where the inputs are the x and y data from Africa: fertility_africa and female_literacy_africa.\n",
    "\n"
   ]
  },
  {
   "cell_type": "code",
   "execution_count": null,
   "metadata": {
    "collapsed": true
   },
   "outputs": [],
   "source": [
    "# Import figure from bokeh.plotting\n",
    "from bokeh.plotting import figure\n",
    "\n",
    "# Import output_notebook and show from bokeh.io\n",
    "from bokeh.io import output_notebook, show\n",
    "\n",
    "# Import pandas as pd\n",
    "import pandas as pd\n",
    "\n",
    "# Import the fertility.csv data: data\n",
    "data = pd.read_csv(\"fertility.csv\", encoding = 'latin2')\n",
    "\n",
    "# Configure the variables for each continent\n",
    "\n",
    "# Latin America\n",
    "fertility_latinamerica = data[data[\"Continent\"] == ____][\"fertility\"]\n",
    "female_literacy_latinamerica = data[data[\"Continent\"] == ____][\"female literacy\"]\n",
    "\n",
    "# Africa\n",
    "fertility_africa = data[data[\"Continent\"] == ____][\"fertility\"]\n",
    "female_literacy_africa = data[data[\"Continent\"] == ____][\"female literacy\"]\n",
    "\n",
    "# Create the figure: p\n",
    "p = ____(____='fertility', ____='female_literacy (% population)')\n",
    "\n",
    "# Add a circle glyph to the figure p\n",
    "\n",
    "\n",
    "# Add an x glyph to the figure p\n",
    "\n",
    "\n",
    "# Call the output_notebook() \n",
    "output_notebook()\n",
    "\n",
    "# Display the plot\n",
    "show(p)\n"
   ]
  },
  {
   "cell_type": "markdown",
   "metadata": {},
   "source": [
    "## Customizing your scatter plots\n",
    "\n",
    "The three most important arguments to customize scatter glyphs are **color**, **size**, and **alpha**. Bokeh accepts colors as hexadecimal strings, tuples of RGB values between 0 and 255, and any of the 147 [CSS color names](http://www.colors.commutercreative.com/grid/). Size values are supplied in screen space units with 100 meaning the size of the entire figure.\n",
    "\n",
    "The alpha parameter controls transparency. It takes in floating point numbers between 0.0, meaning completely transparent, and 1.0, meaning completely opaque.\n",
    "\n",
    "In this exercise, you'll plot female literacy vs fertility for Africa and Latin America as red and blue circle glyphs, respectively.\n",
    "\n",
    "### Instructions\n",
    "\n",
    "- Using the Latin America data (fertility_latinamerica and female_literacy_latinamerica), add a **blue** circle glyph of size=10 and alpha=0.8 to the figure p. To do this, you will need to specify the color, size and alpha keyword arguments inside p.circle().\n",
    "- Using the Africa data (fertility_africa and female_literacy_africa), add a **red** circle glyph of size=10 and alpha=0.8 to the figure p."
   ]
  },
  {
   "cell_type": "code",
   "execution_count": null,
   "metadata": {
    "collapsed": true
   },
   "outputs": [],
   "source": [
    "# Create the figure: p\n",
    "p = figure(x_axis_label='fertility (children per woman)', y_axis_label='female_literacy (% population)')\n",
    "\n",
    "# Add a blue circle glyph to the figure p\n",
    "p.circle(fertility_latinamerica, female_literacy_latinamerica, ____, ____, ____)\n",
    "\n",
    "# Add a red circle glyph to the figure p\n",
    "\n",
    "\n",
    "# Call the output_notebook() \n",
    "output_notebook()\n",
    "\n",
    "# Display the plot\n",
    "show(p)"
   ]
  },
  {
   "cell_type": "markdown",
   "metadata": {},
   "source": [
    "## Lines\n",
    "\n",
    "We can draw lines on Bokeh plots with the **line()** glyph function.\n",
    "\n",
    "In this exercise, you'll plot the daily adjusted **closing price** of Apple Inc.'s stock (AAPL) from 2000 to 2017.\n",
    "\n",
    "The data points are provided for you as lists. **data.index** is a list of datetime objects to plot on the x-axis and **data** is a list of prices to plot on the y-axis.\n",
    "\n",
    "Since we are plotting dates on the x-axis, you must add x_axis_type='datetime' when creating the figure object.\n",
    "\n"
   ]
  },
  {
   "cell_type": "code",
   "execution_count": null,
   "metadata": {
    "collapsed": false
   },
   "outputs": [],
   "source": [
    "# Import pandas as pd\n",
    "import pandas as pd\n",
    "\n",
    "# install pandas-datareader\n",
    "# Package and modules for importing data;\n",
    "from pandas_datareader import data\n",
    "\n",
    "# Package for indicate the time reference\n",
    "import datetime\n",
    "\n",
    "# Import figure from bokeh.plotting\n",
    "from bokeh.plotting import figure\n",
    "\n",
    "# Import output_notebook and show from bokeh.io\n",
    "from bokeh.io import output_notebook, show\n",
    "\n",
    "\n",
    "# We will look at stock prices over the past year, starting at January 1, 2000\n",
    "start = datetime.datetime(2000,1,1)\n",
    "end = datetime.date.today()\n",
    " \n",
    "# Let's get Apple stock data; Apple's ticker symbol is AAPL\n",
    "# First argument is the series we want, second is the source (\"yahoo\" for Yahoo! Finance),\n",
    "# third is the start date, fourth is the end date\n",
    "apple = data.DataReader(\"AAPL\", \"yahoo\", start, end)\n",
    " \n",
    "data = apple[\"Close\"]\n",
    "\n",
    "# Create a figure with x_axis_type=\"datetime\": p\n",
    "p = figure(x_axis_type ='datetime', x_axis_label='Date', y_axis_label='US Dollars')\n",
    "\n",
    "# Plot date along the x axis and price along the y axis\n",
    "p.line(data.index,data)\n",
    "\n",
    "# Print inline in the notebook\n",
    "output_notebook()\n",
    "\n",
    "# Display the plot\n",
    "show(p)"
   ]
  },
  {
   "cell_type": "markdown",
   "metadata": {},
   "source": [
    "## Lines and markers\n",
    "\n",
    "Lines and markers can be combined by plotting them separately using the same data points."
   ]
  },
  {
   "cell_type": "code",
   "execution_count": null,
   "metadata": {
    "collapsed": false
   },
   "outputs": [],
   "source": [
    "# Create a figure with x_axis_type='datetime'\n",
    "p = figure(x_axis_type='datetime', x_axis_label='Date', y_axis_label='US Dollars')\n",
    "\n",
    "# Plot date along the x-axis and price along the y-axis\n",
    "p.line(data.index,data)\n",
    "\n",
    "# With date on the x-axis and price on the y-axis, add a white circle glyph of size 4\n",
    "p.circle(data.index, data, fill_color=\"white\", size=4)\n",
    "\n",
    "# Show the graphic\n",
    "output_notebook()\n",
    "show(p)"
   ]
  },
  {
   "cell_type": "markdown",
   "metadata": {},
   "source": [
    "## Plotting data from NumPy arrays\n",
    "\n",
    "In the previous exercises, you made plots using data stored in lists. You learned that Bokeh can plot both numbers and datetime objects.\n",
    "\n",
    "In this exercise, you'll generate **NumPy** arrays using **np.linspace()** and **np.cos()** and plot them using the circle glyph.\n",
    "\n",
    "**np.linspace()** is a function that returns an array of evenly spaced numbers over a specified interval. For example, np.linspace(0, 10, 5) returns an array of 5 evenly spaced samples calculated over the interval [0, 10]. np.cos(x) calculates the element-wise cosine of some array x."
   ]
  },
  {
   "cell_type": "code",
   "execution_count": null,
   "metadata": {
    "collapsed": false
   },
   "outputs": [],
   "source": [
    "# Import figure from bokeh.plotting\n",
    "from bokeh.plotting import figure\n",
    "\n",
    "# Import output_notebook and show from bokeh.io\n",
    "from bokeh.io import output_notebook, show\n",
    "\n",
    "# Import numpy as np\n",
    "import numpy as np\n",
    "\n",
    "# Create a figure\n",
    "p = figure(x_axis_label='X', y_axis_label='Y')\n",
    "\n",
    "\n",
    "# Create array using np.linspace: x\n",
    "x = np.linspace(0,5,100)\n",
    "\n",
    "# Create array using np.cos: y\n",
    "y = np.cos(x)\n",
    "\n",
    "# Add circles at x and y\n",
    "p.circle(x,y)\n",
    "\n",
    "# Specify the name of the output file and show the result\n",
    "output_notebook()\n",
    "show(p)"
   ]
  },
  {
   "cell_type": "markdown",
   "metadata": {},
   "source": [
    "\n",
    "## The Bokeh ColumnDataSource \n",
    "\n",
    "You can create a **ColumnDataSource** object directly from a Pandas DataFrame by passing the DataFrame to the class initializer.\n",
    "\n",
    "In this exercise, we have imported pandas as pd and read in a data set containing all **Olympic medals awarded in the 100 meter sprint from 1896 to 2012**. A color column has been added indicating the **CSS colorname** we wish to use in the plot for every data point.\n"
   ]
  },
  {
   "cell_type": "code",
   "execution_count": null,
   "metadata": {
    "collapsed": false
   },
   "outputs": [],
   "source": [
    "# Import figure from bokeh.plotting\n",
    "from bokeh.plotting import figure\n",
    "\n",
    "# Import output_notebook and show from bokeh.io\n",
    "from bokeh.io import output_notebook, show\n",
    "\n",
    "# Import pandas as pd\n",
    "import pandas as pd\n",
    "\n",
    "# Import the ColumnDataSource class from bokeh.plotting\n",
    "from bokeh.plotting import ColumnDataSource\n",
    "\n",
    "# Import the fertility.csv data: data\n",
    "data = pd.read_csv(\"olympics.csv\")\n",
    "\n",
    "# Create a figure\n",
    "p = figure(x_axis_label='Year', y_axis_label='Time')\n",
    "\n",
    "# Create a ColumnDataSource from df: source\n",
    "source = ColumnDataSource(data)\n",
    "\n",
    "# Add circle glyphs to the figure p\n",
    "p.circle('Year','Time',size=8, source=source, color='color')\n",
    "\n",
    "# Print inline the figure in the notebook\n",
    "output_notebook()\n",
    "show(p)"
   ]
  },
  {
   "cell_type": "code",
   "execution_count": null,
   "metadata": {
    "collapsed": false,
    "scrolled": true
   },
   "outputs": [],
   "source": [
    "# Selection and non-selection glyphs\n",
    "\n",
    "# Create a figure with the \"box_select\" tool: p\n",
    "p = figure(x_axis_label='Year', y_axis_label='Time', tools=\"box_select\")\n",
    "\n",
    "# Add circle glyphs to the figure p with the selected and non-selected properties\n",
    "p.circle('Year','Time',source=source, selection_color='red',nonselection_alpha=0.1)\n",
    "\n",
    "# Specify the name of the output file and show the result\n",
    "output_notebook()\n",
    "show(p)"
   ]
  }
 ],
 "metadata": {
  "kernelspec": {
   "display_name": "Python 3",
   "language": "python",
   "name": "python3"
  },
  "language_info": {
   "codemirror_mode": {
    "name": "ipython",
    "version": 3
   },
   "file_extension": ".py",
   "mimetype": "text/x-python",
   "name": "python",
   "nbconvert_exporter": "python",
   "pygments_lexer": "ipython3",
   "version": "3.6.0"
  }
 },
 "nbformat": 4,
 "nbformat_minor": 2
}
