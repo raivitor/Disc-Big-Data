{
 "cells": [
  {
   "cell_type": "markdown",
   "metadata": {},
   "source": [
    "# Introduction\n",
    "\n",
    "**Python** is a general-purpose programming language that is becoming more and more popular for doing **data science**. Companies worldwide are using Python to harvest insights from their data and get a competitive edge. This module focuses on Python specifically for data science. \n",
    "\n",
    "What you will learn\n",
    "- Python\n",
    "- Specifically for Data Science\n",
    "- Store data\n",
    "- Manipulate data\n",
    "- Tools for data analysis\n",
    "- https://www.python.org"
   ]
  },
  {
   "cell_type": "markdown",
   "metadata": {
    "collapsed": false
   },
   "source": [
    "## Python Versions\n",
    "\n",
    "There are currently two different supported versions of Python, 2.7 and 3.6. Python 3.x introduced many backwards-incompatible changes to the language, so code written for 2.7 may not work under 3.x and vice versa. For this class all code will use Python 3.6. \n",
    "\n",
    "https://wiki.python.org/moin/Python2orPython3\n",
    "\n",
    "\"Python 2.x is legacy, Python 3.x is the present and future of the language\"\"\n"
   ]
  },
  {
   "cell_type": "markdown",
   "metadata": {
    "collapsed": true
   },
   "source": [
    "## Basic data types\n",
    "\n",
    "Like most languages, Python has a number of basic types including integers, floats, booleans, and strings. These data types behave in ways that are familiar from other programming languages.\n",
    "\n"
   ]
  },
  {
   "cell_type": "code",
   "execution_count": null,
   "metadata": {
    "collapsed": false
   },
   "outputs": [],
   "source": [
    "x = 3\n",
    "print(type(x)) # Prints \"<class 'int'>\"\n",
    "print(x)       # Prints \"3\"\n",
    "print(x + 1)   # Addition; prints \"4\"\n",
    "print(x - 1)   # Subtraction; prints \"2\"\n",
    "print(x * 2)   # Multiplication; prints \"6\"\n",
    "print(x ** 2)  # Exponentiation; prints \"9\"\n",
    "x += 1\n",
    "print(x)       # Prints \"4\"\n",
    "x *= 2\n",
    "print(x)       # Prints \"8\"\n",
    "y = 2.5\n",
    "print(type(y)) # Prints \"<class 'float'>\"\n",
    "print(y, y + 1, y * 2, y ** 2) # Prints \"2.5 3.5 5.0 6.25\""
   ]
  },
  {
   "cell_type": "markdown",
   "metadata": {},
   "source": [
    "Note that unlike many languages, **Python** does not have unary increment **(x++)** or decrement **(x--)** operators. Python also has built-in type for complex numbers; you can find all of the details in the [documentation](https://docs.python.org/3/library/stdtypes.html#numeric-types-int-float-long-complex).\n",
    "\n",
    "**Booleans**: Python implements all of the usual operators for Boolean logic, but uses English words rather than symbols (&&, ||, etc.):"
   ]
  },
  {
   "cell_type": "code",
   "execution_count": null,
   "metadata": {
    "collapsed": false
   },
   "outputs": [],
   "source": [
    "t = True\n",
    "f = False\n",
    "print(type(t)) # Prints \"<class 'bool'>\"\n",
    "print(t and f) # Logical AND; prints \"False\"\n",
    "print(t or f)  # Logical OR; prints \"True\"\n",
    "print(not t)   # Logical NOT; prints \"False\"\n",
    "print(t != f)  # Logical XOR; prints \"True\" "
   ]
  },
  {
   "cell_type": "markdown",
   "metadata": {},
   "source": [
    "**Strings**: Python has great support for strings:\n"
   ]
  },
  {
   "cell_type": "code",
   "execution_count": null,
   "metadata": {
    "collapsed": false
   },
   "outputs": [],
   "source": [
    "hello = 'hello'           # String literals can use single quotes\n",
    "world = \"world\"           # or double quotes; it does not matter.\n",
    "print (hello)             # Prints \"hello\"\n",
    "print (len(hello))        # String length; prints \"5\"\n",
    "hw = hello + ' ' + world  # String concatenation\n",
    "print(hw)                 # prints \"hello world\"\n",
    "hw12 = '%s %s %d' % (hello, world, 12)  # sprintf style string formatting\n",
    "print(hw12)  # prints \"hello world 12\""
   ]
  },
  {
   "cell_type": "markdown",
   "metadata": {},
   "source": [
    "String objects have a bunch of useful methods, you can find a list of all string methods in the [documentation](https://docs.python.org/3/library/stdtypes.html#string-methods).\n",
    "\n",
    "\n",
    "\n"
   ]
  },
  {
   "cell_type": "code",
   "execution_count": null,
   "metadata": {
    "collapsed": false
   },
   "outputs": [],
   "source": [
    "s = \"hello\"\n",
    "print (s.capitalize())  # Capitalize a string; prints \"Hello\"\n",
    "print (s.upper())       # Convert a string to uppercase; prints \"HELLO\"\n",
    "print (s.rjust(7))      # Right-justify a string, padding with spaces; prints \"  hello\"\n",
    "print (s.center(7))     # Center a string, padding with spaces; prints \" hello \"\n",
    "print (s.replace('l', '(ell)'))  # Replace all instances of one substring with another;\n",
    "                                 # prints \"he(ell)(ell)o\"\n",
    "print ('  world '.strip())       # Strip leading and trailing whitespace; prints \"world\""
   ]
  },
  {
   "cell_type": "markdown",
   "metadata": {},
   "source": [
    "## Lists\n",
    "\n",
    "A list is the Python equivalent of an array, but is resizeable and can contain elements of different types. You can find all about list in [documentation](https://docs.python.org/3/tutorial/datastructures.html#more-on-lists)."
   ]
  },
  {
   "cell_type": "code",
   "execution_count": null,
   "metadata": {
    "collapsed": false
   },
   "outputs": [],
   "source": [
    "# Create the areas list\n",
    "areas = [\"hallway\", 11.25, \"kitchen\", 18.0, \"living room\", 20.0, \"bedroom\", 10.75, \"bathroom\", 9.50]\n",
    "\n",
    "# Print out areas\n",
    "print(areas)\n",
    "\n",
    "# Print out the type of areas\n",
    "print(type(areas))\n",
    "\n",
    "# Print out second element from areas\n",
    "print(areas[1])\n",
    "\n",
    "# Print out last element from areas\n",
    "print(areas[-1])\n",
    "\n",
    "# Print out the area of the living room\n",
    "print(areas[-5])\n",
    "\n",
    "# Add two new elements to the end of the list\n",
    "areas.append(\"laundry\")\n",
    "areas.append(8.75)\n",
    "\n",
    "# Print out the new list\n",
    "print(areas)\n",
    "\n",
    "# Remove the first two elements of list\n",
    "del(areas[0:2])\n",
    "print(areas)\n",
    "\n",
    "# Remove the last two elements of list\n",
    "del(areas[-2:])\n",
    "print(areas)"
   ]
  },
  {
   "cell_type": "markdown",
   "metadata": {},
   "source": [
    "**Loops**: You can loop over the elements of a list like this:"
   ]
  },
  {
   "cell_type": "code",
   "execution_count": null,
   "metadata": {
    "collapsed": false
   },
   "outputs": [],
   "source": [
    "for area in areas:\n",
    "    print(area)\n",
    "    \n",
    "# If you want access to the index of each element within the body of a loop, use the built-in enumerate function   \n",
    "for idx, area in enumerate(areas):\n",
    "    print ('#%d: %s' % (idx + 1, area))\n",
    "    \n",
    "# Print only the areas\n",
    "areas_value = [area for idx, area in enumerate(areas) if not(idx % 2 == 0)]\n",
    "print(areas_value) "
   ]
  },
  {
   "cell_type": "code",
   "execution_count": null,
   "metadata": {
    "collapsed": false
   },
   "outputs": [],
   "source": [
    "# Take care when copy things\n",
    "# Watch out! list() and [:] might not copy properly if you put complex things in your lists.\n",
    "# Please see http://www.python-course.eu/deep_copy.php\n",
    "\n",
    "print(areas_value)\n",
    "\n",
    "# copy by reference\n",
    "y = areas_value     #copy by value should be y = list(areas_value)\n",
    "y[1] = 10.0\n",
    "print(areas_value,y)\n"
   ]
  },
  {
   "cell_type": "markdown",
   "metadata": {},
   "source": [
    "## Functions and Packages\n",
    "\n",
    "To leverage the code that brilliant Python developers have written, you'll learn about using functions, methods and packages. This will help you to reduce the amount of code you need to solve challenging problems!\n"
   ]
  },
  {
   "cell_type": "code",
   "execution_count": null,
   "metadata": {
    "collapsed": false
   },
   "outputs": [],
   "source": [
    "# Maybe you already know the name of a Python function, but you still have to figure out how to use it. \n",
    "# Ironically, you have to ask for information about a function with another function: help(). \n",
    "# In IPython specifically, you can also use ? before the function name.\n",
    "# To get help on the max() function, for example, you can use one of these calls:\n",
    "\n",
    "?max #or # help(max)"
   ]
  },
  {
   "cell_type": "code",
   "execution_count": null,
   "metadata": {
    "collapsed": false
   },
   "outputs": [],
   "source": [
    "# Create list areas\n",
    "areas = [11.25, 18.0, 20.0, 10.75, 9.50]\n",
    "\n",
    "# Print out the index of the element 20.0\n",
    "print(areas.index(20.0))\n",
    "\n",
    "# Print out how often 14.5 appears in areas\n",
    "print(areas.count(14.5))\n",
    "\n",
    "# Reverse the orders of the elements in areas\n",
    "areas.reverse()\n",
    "\n",
    "# Print out areas\n",
    "print(areas)"
   ]
  },
  {
   "cell_type": "code",
   "execution_count": null,
   "metadata": {
    "collapsed": false
   },
   "outputs": [],
   "source": [
    "# Python functions are defined using the \"def\" keyword. For example:\n",
    "\n",
    "def sign(x):\n",
    "    if x > 0:\n",
    "        return 'positive'\n",
    "    elif x < 0:\n",
    "        return 'negative'\n",
    "    else:\n",
    "        return 'zero'\n",
    "\n",
    "for x in [-1, 0, 1]:\n",
    "    print(sign(x))\n",
    "# Prints \"negative\", \"zero\", \"positive\""
   ]
  },
  {
   "cell_type": "code",
   "execution_count": null,
   "metadata": {
    "collapsed": false
   },
   "outputs": [],
   "source": [
    "# We will often define functions to take optional keyword arguments, like this:\n",
    "\n",
    "def hello(name, loud=False):\n",
    "    if loud:\n",
    "        print('HELLO, %s!' % name.upper())\n",
    "    else:\n",
    "        print('Hello, %s' % name)\n",
    "\n",
    "hello('Ivanovitch') # Prints \"Hello, Ivanovitch\"\n",
    "hello('Silva', loud=True)  # Prints \"HELLO, SILVA!\"\n"
   ]
  },
  {
   "cell_type": "markdown",
   "metadata": {},
   "source": [
    "**Modules** are pieces of code that other people have written to fulfill common tasks, such as genrating random numbers, performing mathematical operations, etc. \n",
    "\n",
    "The basic way to use a module is to add **import module_name** at the top of your code, and then using **module_name.var** to access functions and values with the name **var** in the module. \n",
    "\n",
    "For example, as a data scientist, some notions of geometry never hurt. Let's refresh some of the basics. For a fancy clustering algorithm, you want to find the circumference $C$ and area $A$ of a circle. When the radius of the circle is $r$, you can calculate $C$ and $A$ as:\n",
    "\n",
    "\\begin{equation*}\n",
    "C   = 2 \\pi r\\\\\n",
    "A   = \\pi r^{2}\n",
    "\\end{equation*}"
   ]
  },
  {
   "cell_type": "code",
   "execution_count": null,
   "metadata": {
    "collapsed": false
   },
   "outputs": [],
   "source": [
    "# Import the math package\n",
    "import math\n",
    "\n",
    "# Definition of radius\n",
    "r = 0.43\n",
    "\n",
    "# Calculate C\n",
    "C = 2 * math.pi * r\n",
    "\n",
    "# Calculate A\n",
    "A = math.pi * r ** 2\n",
    "\n",
    "# Build printout\n",
    "print(\"Circumference: \" + str(C))\n",
    "print(\"Area: \" + str(A))"
   ]
  },
  {
   "cell_type": "markdown",
   "metadata": {},
   "source": [
    "There is another kind of **import** that can be used if you only need certain functions from a module. These take the form **from module_name import var**, and the **var** can be used as if it were defined normally in your code. For example, to import only the **pi** constant from the previous example:"
   ]
  },
  {
   "cell_type": "code",
   "execution_count": null,
   "metadata": {
    "collapsed": false
   },
   "outputs": [],
   "source": [
    "# Import the math package\n",
    "from math import pi\n",
    "\n",
    "print(pi)"
   ]
  },
  {
   "cell_type": "markdown",
   "metadata": {},
   "source": [
    "You can imort a module or object under a different name using the **as** keyword. This is mainly used when a module or object has a long or confusing name. For example:"
   ]
  },
  {
   "cell_type": "code",
   "execution_count": null,
   "metadata": {
    "collapsed": false
   },
   "outputs": [],
   "source": [
    "from math import sqrt as square_root\n",
    "\n",
    "print(square_root(10))"
   ]
  },
  {
   "cell_type": "markdown",
   "metadata": {},
   "source": [
    "## Numpy\n",
    "\n",
    "Numpy (numeric Python) is a Python package to efficiently do data science. Learn to work with the Numpy array, a faster and more powerful alternative to the list, and take your first steps in data exploration.\n",
    "\n",
    "- Alternative Python List: Numpy Array\n",
    "- Calculations over entire array\n",
    "- Easy and fast\n",
    "\n",
    "You can read all about numpy datatypes in the [documentation](https://docs.scipy.org/doc/numpy/reference/)."
   ]
  },
  {
   "cell_type": "code",
   "execution_count": null,
   "metadata": {
    "collapsed": false
   },
   "outputs": [],
   "source": [
    "height = [1.60, 1.90, 1.77]\n",
    "weight = [50.30, 88.00, 101.00]\n",
    "ratio = weight/height ** 2    #limitation of list"
   ]
  },
  {
   "cell_type": "code",
   "execution_count": null,
   "metadata": {
    "collapsed": false
   },
   "outputs": [],
   "source": [
    "import numpy as np\n",
    "\n",
    "np_height = np.array(height)\n",
    "np_weight = np.array(weight)\n",
    "np_ratio = np_weight/np_height**2\n",
    "print(np_ratio)"
   ]
  },
  {
   "cell_type": "code",
   "execution_count": null,
   "metadata": {
    "collapsed": false
   },
   "outputs": [],
   "source": [
    "# Numpy: Remarks\n",
    "# First of all, Numpy arrays cannot contain elements with different types. \n",
    "# If you try to build such a list, some of the elments' types are changed to end up with a homogenous list. \n",
    "# This is known as type coercion.\n",
    "\n",
    "x = np.array([1, \"natal\", False]) #numpy array contains only one type\n",
    "print(x)\n",
    "\n",
    "print (np.array([True, 1, 2]) + np.array([3, 4, False]))\n",
    "\n",
    "y = height + weight\n",
    "print(y)\n",
    "\n",
    "w = np_height + np_weight\n",
    "print(w)\n"
   ]
  },
  {
   "cell_type": "markdown",
   "metadata": {},
   "source": [
    "Boolean logic is the foundation of decision-making in your Python programs. Learn about different comparison operators, how you can combine them with boolean operators and how to use the boolean outcomes in control structures."
   ]
  },
  {
   "cell_type": "code",
   "execution_count": null,
   "metadata": {
    "collapsed": false
   },
   "outputs": [],
   "source": [
    "#Numpy: Subsetting\n",
    "print(np_height)\n",
    "\n",
    "print(np_height > 1.7)\n",
    "\n",
    "print(np_height[np_height > 1.7])"
   ]
  },
  {
   "cell_type": "code",
   "execution_count": 1,
   "metadata": {
    "collapsed": false
   },
   "outputs": [
    {
     "name": "stdout",
     "output_type": "stream",
     "text": [
      "<class 'numpy.ndarray'>\n",
      "(4, 2)\n",
      "[[ 180.    78.4]\n",
      " [ 215.   102.7]\n",
      " [ 210.    98.5]\n",
      " [ 188.    75.2]]\n"
     ]
    }
   ],
   "source": [
    "# 2D Numpy array \n",
    "# Create baseball, a list of lists (height,weight)\n",
    "baseball = [[180, 78.4],\n",
    "            [215, 102.7],\n",
    "            [210, 98.5],\n",
    "            [188, 75.2]]\n",
    "\n",
    "# Import numpy\n",
    "import numpy as np\n",
    "\n",
    "# Create a 2D Numpy array from baseball: np_baseball\n",
    "np_baseball = np.array(baseball)\n",
    "\n",
    "# Print out the type of np_baseball\n",
    "print(type(np_baseball))\n",
    "\n",
    "# Print out the shape of np_baseball\n",
    "print(np_baseball.shape)\n",
    "\n",
    "# Print out the numpy 2D array\n",
    "print(np_baseball)"
   ]
  },
  {
   "cell_type": "code",
   "execution_count": null,
   "metadata": {
    "collapsed": false
   },
   "outputs": [],
   "source": [
    "# Subsetting 2D Numpy Arrays\n",
    "# If your 2D Numpy array has a regular structure, i.e. each row and column has a fixed number of values,\n",
    "# complicated ways of subsetting become very easy.\n",
    "\n",
    "# Print out the 4th row of np_baseball\n",
    "print(np_baseball[3])\n",
    "\n",
    "# Print out the entire second column of np_baseball\n",
    "print(np_baseball[:,1])\n",
    "\n",
    "# Print out height of 3rd player\n",
    "print(np_baseball[2,0])"
   ]
  },
  {
   "cell_type": "markdown",
   "metadata": {},
   "source": [
    "# Exercises"
   ]
  },
  {
   "cell_type": "markdown",
   "metadata": {},
   "source": [
    "### Exercise 1\n",
    "\n",
    "Using comparison operators, generate boolean arrays that answer the following questions:\n",
    "\n",
    "- Which areas in my_house are greater than or equal to 18?\n",
    "- You can also compare two Numpy arrays element-wise. Which areas in my_house are smaller than the ones in your_house?\n",
    "   \n",
    "Make sure to wrap both commands in print() statement, so that you can inspect the output."
   ]
  },
  {
   "cell_type": "code",
   "execution_count": null,
   "metadata": {
    "collapsed": true
   },
   "outputs": [],
   "source": [
    "# Create arrays\n",
    "import numpy as np\n",
    "my_house = np.array([18.0, 20.0, 10.75, 9.50])\n",
    "your_house = np.array([14.0, 24.0, 14.25, 9.0])\n",
    "\n",
    "# my_house greater than or equal to 18\n",
    "# TODO\n",
    "\n",
    "# my_house less than your_house\n",
    "# TODO"
   ]
  },
  {
   "cell_type": "markdown",
   "metadata": {},
   "source": [
    "### Exercise 2\n",
    "\n",
    "Before, the operational operators like **<** and **>=** worked with **Numpy arrays** out of the box. Unfortunately, this is not true for the boolean operators **and**, or, and not.\n",
    "\n",
    "To use these operators with Numpy, you will need **np.logical_and()**, **np.logical_or()** and **np.logical_not()**. Here's an example on the my_house and your_house arrays from before to give you an idea:\n",
    "\n",
    "logical_and(your_house > 13, \n",
    "            your_house < 15)\n",
    "\n",
    "  \n",
    "Generate boolean arrays that answer the following questions:\n",
    "\n",
    " - Which areas in my_house are greater than 18.5 or smaller than 10?\n",
    "    \n",
    " - Which areas are smaller than 11 in both my_house and your_house? \n",
    "    \n",
    "Make sure to wrap both commands in print() statement, so that you can inspect the output.        "
   ]
  },
  {
   "cell_type": "code",
   "execution_count": null,
   "metadata": {
    "collapsed": true
   },
   "outputs": [],
   "source": [
    "# Create arrays\n",
    "import numpy as np\n",
    "my_house = np.array([18.0, 20.0, 10.75, 9.50])\n",
    "your_house = np.array([14.0, 24.0, 14.25, 9.0])\n",
    "\n",
    "# my_house greater than 18.5 or smaller than 10\n",
    "# TODO\n",
    "\n",
    "# Both my_house and your_house smaller than 11\n",
    "# TODO"
   ]
  },
  {
   "cell_type": "markdown",
   "metadata": {},
   "source": [
    "### Exercise 3\n",
    "\n",
    "- Adapt the for loop in the sample code to use **enumerate()**. \n",
    "- On each run, a line of the form **\"room x: y\"** should be printed, where **x** is the index of the list element and **y** is the actual list element, i.e. the area. Make sure to print out this exact string, with the correct spacing.\n",
    "\n"
   ]
  },
  {
   "cell_type": "code",
   "execution_count": null,
   "metadata": {
    "collapsed": false
   },
   "outputs": [],
   "source": [
    "# areas list\n",
    "areas = [11.25, 18.0, 20.0, 10.75, 9.50]\n",
    "\n",
    "# TODO: Change for loop to use enumerate()\n",
    "for a in areas :\n",
    "    print(a)"
   ]
  },
  {
   "cell_type": "markdown",
   "metadata": {},
   "source": [
    "### Exercise 4\n",
    "\n",
    "Write a for loop that goes through each sublist of house and prints out the **x is y sqm**, where **x** is the name of the room and **y** is the area of the room."
   ]
  },
  {
   "cell_type": "code",
   "execution_count": null,
   "metadata": {
    "collapsed": true
   },
   "outputs": [],
   "source": [
    "# house list of lists\n",
    "house = [[\"hallway\", 11.25], \n",
    "         [\"kitchen\", 18.0], \n",
    "         [\"living room\", 20.0], \n",
    "         [\"bedroom\", 10.75], \n",
    "         [\"bathroom\", 9.50]]\n",
    "         \n",
    "# Build a for loop from scratch\n",
    "# TODO"
   ]
  }
 ],
 "metadata": {
  "kernelspec": {
   "display_name": "Python 3",
   "language": "python",
   "name": "python3"
  },
  "language_info": {
   "codemirror_mode": {
    "name": "ipython",
    "version": 3
   },
   "file_extension": ".py",
   "mimetype": "text/x-python",
   "name": "python",
   "nbconvert_exporter": "python",
   "pygments_lexer": "ipython3",
   "version": "3.6.0"
  }
 },
 "nbformat": 4,
 "nbformat_minor": 2
}
